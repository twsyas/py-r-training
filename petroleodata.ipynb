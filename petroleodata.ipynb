{
  "nbformat": 4,
  "nbformat_minor": 0,
  "metadata": {
    "colab": {
      "name": "atividade.ipynb",
      "provenance": [],
      "collapsed_sections": [
        "Mtv458rv-Y_i",
        "xAUOzJJg-3rE",
        "tStp8GgPfE_T",
        "kkk8GL1yh_tN",
        "01v2NiC1ihQy",
        "3prFAOWiigVU",
        "g4Cgr7suix4I",
        "hPl1i19Go32X",
        "mn_UeJ5ni9yP",
        "HQr_Xa9W64Ss",
        "VmjskO6IBao7",
        "noIJeRelSNSq",
        "H73BgO3ETgUu",
        "oRb8sWA2M00c",
        "5g3Yf5wPM5FE",
        "BcTQMMt1Qwhe",
        "np2MpS0YKhCR",
        "-R_rX5p9KBOA",
        "6jAiJOYaTBrT"
      ],
      "toc_visible": true,
      "mount_file_id": "1eIfLEOzs2UAd9VcGOjVZ_ntsKpOmJV7o",
      "authorship_tag": "ABX9TyPZ/DOyBBIPP/l1hn5whALC"
    },
    "kernelspec": {
      "name": "python3",
      "display_name": "Python 3"
    },
    "language_info": {
      "name": "python"
    }
  },
  "cells": [
    {
      "cell_type": "markdown",
      "source": [
        "### Instalação das bibliotecas importantes"
      ],
      "metadata": {
        "id": "Mtv458rv-Y_i"
      }
    },
    {
      "cell_type": "code",
      "execution_count": 4,
      "metadata": {
        "colab": {
          "base_uri": "https://localhost:8080/"
        },
        "id": "6bZsqXD48f2M",
        "outputId": "98fa5d33-6dff-4b72-f03a-e0c0107ca217"
      },
      "outputs": [
        {
          "output_type": "stream",
          "name": "stdout",
          "text": [
            "Looking in indexes: https://pypi.org/simple, https://us-python.pkg.dev/colab-wheels/public/simple/\n",
            "Requirement already satisfied: update in /usr/local/lib/python3.7/dist-packages (0.0.1)\n",
            "Requirement already satisfied: pip in /usr/local/lib/python3.7/dist-packages (21.1.3)\n",
            "Requirement already satisfied: style==1.1.0 in /usr/local/lib/python3.7/dist-packages (from update) (1.1.0)\n"
          ]
        }
      ],
      "source": [
        "\n",
        "!pip install update pip\n",
        "!pip install pandas -q\n",
        "!pip install numpy -q\n",
        "!pip install seaborn -q\n"
      ]
    },
    {
      "cell_type": "markdown",
      "source": [
        "### Importação dos módulos e funções"
      ],
      "metadata": {
        "id": "kMi3wNzr-V4s"
      }
    },
    {
      "cell_type": "code",
      "source": [
        "import pandas as pd\n",
        "import numpy as np\n",
        "import matplotlib.pyplot as plt\n",
        "from matplotlib import pylab\n",
        "import warnings\n",
        "import seaborn as sns\n"
      ],
      "metadata": {
        "id": "livRwhmV-loK"
      },
      "execution_count": 5,
      "outputs": []
    },
    {
      "cell_type": "markdown",
      "source": [
        "### Conectando ao google drive"
      ],
      "metadata": {
        "id": "xAUOzJJg-3rE"
      }
    },
    {
      "cell_type": "code",
      "source": [
        "from google.colab import drive\n",
        "drive.mount('/content/drive')"
      ],
      "metadata": {
        "colab": {
          "base_uri": "https://localhost:8080/"
        },
        "id": "OQV7buAE-686",
        "outputId": "aa14a002-b564-4cc2-8a44-f48f16b0d1e3"
      },
      "execution_count": 6,
      "outputs": [
        {
          "output_type": "stream",
          "name": "stdout",
          "text": [
            "Drive already mounted at /content/drive; to attempt to forcibly remount, call drive.mount(\"/content/drive\", force_remount=True).\n"
          ]
        }
      ]
    },
    {
      "cell_type": "markdown",
      "source": [
        "*importa o drive no google colab, deixando assim o acesso aos arquivos salvos lá mais facéis de utilizar.*"
      ],
      "metadata": {
        "id": "wqUxycNx_GEy"
      }
    },
    {
      "cell_type": "markdown",
      "source": [
        "\n",
        "### Carregando os arquivos .csv como panda dataframe\n"
      ],
      "metadata": {
        "id": "tStp8GgPfE_T"
      }
    },
    {
      "cell_type": "code",
      "source": [
        "\n",
        "base_distribuicao = pd.read_csv(\n",
        "    '/content/drive/MyDrive/Colab Notebooks/BASES_DE_DISTRIBUICAO_CSV.csv',\n",
        "    sep = ';',\n",
        "    decimal = ',',\n",
        "    encoding= 'latin-1'\n",
        "    )\n",
        "\n",
        "entregas_distribuidor = pd.read_csv(\n",
        "    '/content/drive/MyDrive/Colab Notebooks/Liquidos_Entregas_Distribuidor_Atual.csv',\n",
        "    sep = ';',\n",
        "    decimal = ',',\n",
        "    encoding= 'latin-1'\n",
        "    )\n",
        "\n",
        "entregas_fornecedor = pd.read_csv(\n",
        "    '/content/drive/MyDrive/Colab Notebooks/Liquidos_Vendas_Historico.csv',\n",
        "    sep = ';',\n",
        "    decimal = ',',\n",
        "    encoding= 'latin-1'\n",
        "    )\n",
        "\n",
        "vendas_petroleo = pd.read_csv(\n",
        "    '/content/drive/MyDrive/Colab Notebooks/vendas_derivados_petroleo.csv',\n",
        "    sep = ';',\n",
        "    decimal = ',',\n",
        "    encoding= 'latin-1'\n",
        "    )"
      ],
      "metadata": {
        "id": "v5bKmI55fFij"
      },
      "execution_count": 7,
      "outputs": []
    },
    {
      "cell_type": "code",
      "source": [
        "type(vendas_petroleo['ANO'])"
      ],
      "metadata": {
        "colab": {
          "base_uri": "https://localhost:8080/"
        },
        "id": "Sulnj5XLqgzr",
        "outputId": "ddfd10f0-6d8f-4307-b7f7-1b526d1f8417"
      },
      "execution_count": null,
      "outputs": [
        {
          "output_type": "execute_result",
          "data": {
            "text/plain": [
              "pandas.core.series.Series"
            ]
          },
          "metadata": {},
          "execution_count": 8
        }
      ]
    },
    {
      "cell_type": "markdown",
      "source": [
        "## Lendo dataframes"
      ],
      "metadata": {
        "id": "kkk8GL1yh_tN"
      }
    },
    {
      "cell_type": "markdown",
      "source": [
        "### **Base de distribuição**"
      ],
      "metadata": {
        "id": "01v2NiC1ihQy"
      }
    },
    {
      "cell_type": "code",
      "source": [
        "base_distribuicao"
      ],
      "metadata": {
        "colab": {
          "base_uri": "https://localhost:8080/",
          "height": 0
        },
        "id": "QJdRiL_fiAEN",
        "outputId": "1b75f7f3-726a-40bc-bf5f-8eba27720a75"
      },
      "execution_count": 8,
      "outputs": [
        {
          "output_type": "execute_result",
          "data": {
            "text/plain": [
              "                   CNPJ                                       Razão Social  \\\n",
              "0    02.805.889/0008-86      LARCO COMERCIAL DE PRODUTOS DE PETRÓLEO LTDA.   \n",
              "1    01.241.994/0004-43             TDC DISTRIBUIDORA DE COMBUSTÍVEIS S/A.   \n",
              "2    01.557.353/0001-50          PETROSERRA DISTRIBUIDORA DE PETRÓLEO LTDA   \n",
              "3    34.274.233/0080-06                                  VIBRA ENERGIA S.A   \n",
              "4    34.274.233/0080-06                                  VIBRA ENERGIA S.A   \n",
              "..                  ...                                                ...   \n",
              "448  34.274.233/0238-11                                  VIBRA ENERGIA S.A   \n",
              "449  33.453.598/0092-60                                        RAIZEN S.A.   \n",
              "450  10.383.235/0002-44  EVEREST DISTRIBUIDORA DE DERIVADOS DE PETRÓLEO...   \n",
              "451  34.226.839/0001-64         PETRO NORTE DISTRIBUIDORA DE PETROLEO LTDA   \n",
              "452  01.241.994/0016-87             TDC DISTRIBUIDORA DE COMBUSTÍVEIS S/A.   \n",
              "\n",
              "    Número de Ordem             Tipo de Instalação         Cep  \\\n",
              "0             1.865  BASES DO RAMO DE COMBUSTÍVEIS  47850000.0   \n",
              "1            59.563  BASES DO RAMO DE COMBUSTÍVEIS  43900000.0   \n",
              "2            59.580  BASES DO RAMO DE COMBUSTÍVEIS  45202130.0   \n",
              "3            59.904     BASES DO RAMO DE SOLVENTES  43900000.0   \n",
              "4            59.904  BASES DO RAMO DE COMBUSTÍVEIS  43900000.0   \n",
              "..              ...                            ...         ...   \n",
              "448         185.386  BASES DO RAMO DE COMBUSTÍVEIS  77500000.0   \n",
              "449         197.161  BASES DO RAMO DE COMBUSTÍVEIS  77500000.0   \n",
              "450         242.590  BASES DO RAMO DE COMBUSTÍVEIS   7740210.0   \n",
              "451         280.977  BASES DO RAMO DE COMBUSTÍVEIS  77600000.0   \n",
              "452         282.093  BASES DO RAMO DE COMBUSTÍVEIS  77500000.0   \n",
              "\n",
              "                                    Endereço da Matriz Número  \\\n",
              "0                                        GLAUBER ROCHA    S/N   \n",
              "1                                RODOVIA MADRE DE DEUS    S/N   \n",
              "2                                       RODOVIA BR 116    S/N   \n",
              "3                     RODOVIA CANDEIAS - MADRE DE DEUS    S/N   \n",
              "4                     RODOVIA CANDEIAS - MADRE DE DEUS    S/N   \n",
              "..                                                 ...    ...   \n",
              "448                     RODOVIA TO-080, KM 23, LOTE 12   S/Nº   \n",
              "449                         FERROVIA NORTE SUL LOTE 14  S/N.º   \n",
              "450  ROD BR-153, KM 6635 GLEBA 8 II ETAPA LOTE 38 -...   S/N,   \n",
              "451                      RODOVIA TO-080 KM 45 +300 MTS    S/N   \n",
              "452  ROD PATIO DE INTEGRACAO INTERMODAL DA FERROVIA...    S/N   \n",
              "\n",
              "                                       Bairro  \\\n",
              "0                              JARDIM PARAÍSO   \n",
              "1                                       CAIPÉ   \n",
              "2                               JOAQUIM ROMAO   \n",
              "3                                    MATARIPE   \n",
              "4                                    MATARIPE   \n",
              "..                                        ...   \n",
              "448  PÁTIO DE INTEGRAÇÃO DA FERROVIA NORTE SU   \n",
              "449                             SETOR CENTRAL   \n",
              "450                             SETOR CENTRAL   \n",
              "451                             Setor Central   \n",
              "452                             Setor Central   \n",
              "\n",
              "                                          Complemento               Município  \\\n",
              "0                                 QUADRA 84 - LOTE 02  LUIS EDUARDO MAGALHAES   \n",
              "1                                             KM 42,5  SAO FRANCISCO DO CONDE   \n",
              "2                                              KM 706                  JEQUIE   \n",
              "3                                              KM 6,2  SAO FRANCISCO DO CONDE   \n",
              "4                                              KM 6,2  SAO FRANCISCO DO CONDE   \n",
              "..                                                ...                     ...   \n",
              "448                                                 .          PORTO NACIONAL   \n",
              "449  PÁTIO DE INTEGRAÇÃO MULTIMODAL DE PORTO NACIONAL          PORTO NACIONAL   \n",
              "450                                               NaN                  GURUPI   \n",
              "451                                  LOTES 77,78 E 79    PARAISO DO TOCANTINS   \n",
              "452                                               NaN          PORTO NACIONAL   \n",
              "\n",
              "     UF Capacidade Total  Participacao (%) Administrador? Número Autorização  \\\n",
              "0    BA         3.706,77             100.0            Sim                820   \n",
              "1    BA         7.172,00             100.0            Sim         ANP Nº 397   \n",
              "2    BA         5.903,07             100.0            Sim                142   \n",
              "3    BA        56.508,61             100.0            Sim                485   \n",
              "4    BA        46.749,73             100.0            Sim                233   \n",
              "..   ..              ...               ...            ...                ...   \n",
              "448  TO        29.563,00             100.0            Sim                705   \n",
              "449  TO        13.764,99             100.0            Sim                888   \n",
              "450  TO         1.078,30             100.0            Sim                402   \n",
              "451  TO         1.700,00             100.0            Sim                 88   \n",
              "452  TO        10.685,25             100.0            Sim                165   \n",
              "\n",
              "    Data Publicação  \n",
              "0        24/12/2021  \n",
              "1        19/07/2000  \n",
              "2        12/04/2017  \n",
              "3        16/10/2009  \n",
              "4        17/04/2019  \n",
              "..              ...  \n",
              "448      19/09/2013  \n",
              "449      09/12/2020  \n",
              "450      24/07/2017  \n",
              "451      12/02/2021  \n",
              "452      25/03/2021  \n",
              "\n",
              "[453 rows x 16 columns]"
            ],
            "text/html": [
              "\n",
              "  <div id=\"df-c1dc7d1b-f854-4a5d-9ef1-205fe90b4400\">\n",
              "    <div class=\"colab-df-container\">\n",
              "      <div>\n",
              "<style scoped>\n",
              "    .dataframe tbody tr th:only-of-type {\n",
              "        vertical-align: middle;\n",
              "    }\n",
              "\n",
              "    .dataframe tbody tr th {\n",
              "        vertical-align: top;\n",
              "    }\n",
              "\n",
              "    .dataframe thead th {\n",
              "        text-align: right;\n",
              "    }\n",
              "</style>\n",
              "<table border=\"1\" class=\"dataframe\">\n",
              "  <thead>\n",
              "    <tr style=\"text-align: right;\">\n",
              "      <th></th>\n",
              "      <th>CNPJ</th>\n",
              "      <th>Razão Social</th>\n",
              "      <th>Número de Ordem</th>\n",
              "      <th>Tipo de Instalação</th>\n",
              "      <th>Cep</th>\n",
              "      <th>Endereço da Matriz</th>\n",
              "      <th>Número</th>\n",
              "      <th>Bairro</th>\n",
              "      <th>Complemento</th>\n",
              "      <th>Município</th>\n",
              "      <th>UF</th>\n",
              "      <th>Capacidade Total</th>\n",
              "      <th>Participacao (%)</th>\n",
              "      <th>Administrador?</th>\n",
              "      <th>Número Autorização</th>\n",
              "      <th>Data Publicação</th>\n",
              "    </tr>\n",
              "  </thead>\n",
              "  <tbody>\n",
              "    <tr>\n",
              "      <th>0</th>\n",
              "      <td>02.805.889/0008-86</td>\n",
              "      <td>LARCO COMERCIAL DE PRODUTOS DE PETRÓLEO LTDA.</td>\n",
              "      <td>1.865</td>\n",
              "      <td>BASES DO RAMO DE COMBUSTÍVEIS</td>\n",
              "      <td>47850000.0</td>\n",
              "      <td>GLAUBER ROCHA</td>\n",
              "      <td>S/N</td>\n",
              "      <td>JARDIM PARAÍSO</td>\n",
              "      <td>QUADRA 84 - LOTE 02</td>\n",
              "      <td>LUIS EDUARDO MAGALHAES</td>\n",
              "      <td>BA</td>\n",
              "      <td>3.706,77</td>\n",
              "      <td>100.0</td>\n",
              "      <td>Sim</td>\n",
              "      <td>820</td>\n",
              "      <td>24/12/2021</td>\n",
              "    </tr>\n",
              "    <tr>\n",
              "      <th>1</th>\n",
              "      <td>01.241.994/0004-43</td>\n",
              "      <td>TDC DISTRIBUIDORA DE COMBUSTÍVEIS S/A.</td>\n",
              "      <td>59.563</td>\n",
              "      <td>BASES DO RAMO DE COMBUSTÍVEIS</td>\n",
              "      <td>43900000.0</td>\n",
              "      <td>RODOVIA MADRE DE DEUS</td>\n",
              "      <td>S/N</td>\n",
              "      <td>CAIPÉ</td>\n",
              "      <td>KM 42,5</td>\n",
              "      <td>SAO FRANCISCO DO CONDE</td>\n",
              "      <td>BA</td>\n",
              "      <td>7.172,00</td>\n",
              "      <td>100.0</td>\n",
              "      <td>Sim</td>\n",
              "      <td>ANP Nº 397</td>\n",
              "      <td>19/07/2000</td>\n",
              "    </tr>\n",
              "    <tr>\n",
              "      <th>2</th>\n",
              "      <td>01.557.353/0001-50</td>\n",
              "      <td>PETROSERRA DISTRIBUIDORA DE PETRÓLEO LTDA</td>\n",
              "      <td>59.580</td>\n",
              "      <td>BASES DO RAMO DE COMBUSTÍVEIS</td>\n",
              "      <td>45202130.0</td>\n",
              "      <td>RODOVIA BR 116</td>\n",
              "      <td>S/N</td>\n",
              "      <td>JOAQUIM ROMAO</td>\n",
              "      <td>KM 706</td>\n",
              "      <td>JEQUIE</td>\n",
              "      <td>BA</td>\n",
              "      <td>5.903,07</td>\n",
              "      <td>100.0</td>\n",
              "      <td>Sim</td>\n",
              "      <td>142</td>\n",
              "      <td>12/04/2017</td>\n",
              "    </tr>\n",
              "    <tr>\n",
              "      <th>3</th>\n",
              "      <td>34.274.233/0080-06</td>\n",
              "      <td>VIBRA ENERGIA S.A</td>\n",
              "      <td>59.904</td>\n",
              "      <td>BASES DO RAMO DE SOLVENTES</td>\n",
              "      <td>43900000.0</td>\n",
              "      <td>RODOVIA CANDEIAS - MADRE DE DEUS</td>\n",
              "      <td>S/N</td>\n",
              "      <td>MATARIPE</td>\n",
              "      <td>KM 6,2</td>\n",
              "      <td>SAO FRANCISCO DO CONDE</td>\n",
              "      <td>BA</td>\n",
              "      <td>56.508,61</td>\n",
              "      <td>100.0</td>\n",
              "      <td>Sim</td>\n",
              "      <td>485</td>\n",
              "      <td>16/10/2009</td>\n",
              "    </tr>\n",
              "    <tr>\n",
              "      <th>4</th>\n",
              "      <td>34.274.233/0080-06</td>\n",
              "      <td>VIBRA ENERGIA S.A</td>\n",
              "      <td>59.904</td>\n",
              "      <td>BASES DO RAMO DE COMBUSTÍVEIS</td>\n",
              "      <td>43900000.0</td>\n",
              "      <td>RODOVIA CANDEIAS - MADRE DE DEUS</td>\n",
              "      <td>S/N</td>\n",
              "      <td>MATARIPE</td>\n",
              "      <td>KM 6,2</td>\n",
              "      <td>SAO FRANCISCO DO CONDE</td>\n",
              "      <td>BA</td>\n",
              "      <td>46.749,73</td>\n",
              "      <td>100.0</td>\n",
              "      <td>Sim</td>\n",
              "      <td>233</td>\n",
              "      <td>17/04/2019</td>\n",
              "    </tr>\n",
              "    <tr>\n",
              "      <th>...</th>\n",
              "      <td>...</td>\n",
              "      <td>...</td>\n",
              "      <td>...</td>\n",
              "      <td>...</td>\n",
              "      <td>...</td>\n",
              "      <td>...</td>\n",
              "      <td>...</td>\n",
              "      <td>...</td>\n",
              "      <td>...</td>\n",
              "      <td>...</td>\n",
              "      <td>...</td>\n",
              "      <td>...</td>\n",
              "      <td>...</td>\n",
              "      <td>...</td>\n",
              "      <td>...</td>\n",
              "      <td>...</td>\n",
              "    </tr>\n",
              "    <tr>\n",
              "      <th>448</th>\n",
              "      <td>34.274.233/0238-11</td>\n",
              "      <td>VIBRA ENERGIA S.A</td>\n",
              "      <td>185.386</td>\n",
              "      <td>BASES DO RAMO DE COMBUSTÍVEIS</td>\n",
              "      <td>77500000.0</td>\n",
              "      <td>RODOVIA TO-080, KM 23, LOTE 12</td>\n",
              "      <td>S/Nº</td>\n",
              "      <td>PÁTIO DE INTEGRAÇÃO DA FERROVIA NORTE SU</td>\n",
              "      <td>.</td>\n",
              "      <td>PORTO NACIONAL</td>\n",
              "      <td>TO</td>\n",
              "      <td>29.563,00</td>\n",
              "      <td>100.0</td>\n",
              "      <td>Sim</td>\n",
              "      <td>705</td>\n",
              "      <td>19/09/2013</td>\n",
              "    </tr>\n",
              "    <tr>\n",
              "      <th>449</th>\n",
              "      <td>33.453.598/0092-60</td>\n",
              "      <td>RAIZEN S.A.</td>\n",
              "      <td>197.161</td>\n",
              "      <td>BASES DO RAMO DE COMBUSTÍVEIS</td>\n",
              "      <td>77500000.0</td>\n",
              "      <td>FERROVIA NORTE SUL LOTE 14</td>\n",
              "      <td>S/N.º</td>\n",
              "      <td>SETOR CENTRAL</td>\n",
              "      <td>PÁTIO DE INTEGRAÇÃO MULTIMODAL DE PORTO NACIONAL</td>\n",
              "      <td>PORTO NACIONAL</td>\n",
              "      <td>TO</td>\n",
              "      <td>13.764,99</td>\n",
              "      <td>100.0</td>\n",
              "      <td>Sim</td>\n",
              "      <td>888</td>\n",
              "      <td>09/12/2020</td>\n",
              "    </tr>\n",
              "    <tr>\n",
              "      <th>450</th>\n",
              "      <td>10.383.235/0002-44</td>\n",
              "      <td>EVEREST DISTRIBUIDORA DE DERIVADOS DE PETRÓLEO...</td>\n",
              "      <td>242.590</td>\n",
              "      <td>BASES DO RAMO DE COMBUSTÍVEIS</td>\n",
              "      <td>7740210.0</td>\n",
              "      <td>ROD BR-153, KM 6635 GLEBA 8 II ETAPA LOTE 38 -...</td>\n",
              "      <td>S/N,</td>\n",
              "      <td>SETOR CENTRAL</td>\n",
              "      <td>NaN</td>\n",
              "      <td>GURUPI</td>\n",
              "      <td>TO</td>\n",
              "      <td>1.078,30</td>\n",
              "      <td>100.0</td>\n",
              "      <td>Sim</td>\n",
              "      <td>402</td>\n",
              "      <td>24/07/2017</td>\n",
              "    </tr>\n",
              "    <tr>\n",
              "      <th>451</th>\n",
              "      <td>34.226.839/0001-64</td>\n",
              "      <td>PETRO NORTE DISTRIBUIDORA DE PETROLEO LTDA</td>\n",
              "      <td>280.977</td>\n",
              "      <td>BASES DO RAMO DE COMBUSTÍVEIS</td>\n",
              "      <td>77600000.0</td>\n",
              "      <td>RODOVIA TO-080 KM 45 +300 MTS</td>\n",
              "      <td>S/N</td>\n",
              "      <td>Setor Central</td>\n",
              "      <td>LOTES 77,78 E 79</td>\n",
              "      <td>PARAISO DO TOCANTINS</td>\n",
              "      <td>TO</td>\n",
              "      <td>1.700,00</td>\n",
              "      <td>100.0</td>\n",
              "      <td>Sim</td>\n",
              "      <td>88</td>\n",
              "      <td>12/02/2021</td>\n",
              "    </tr>\n",
              "    <tr>\n",
              "      <th>452</th>\n",
              "      <td>01.241.994/0016-87</td>\n",
              "      <td>TDC DISTRIBUIDORA DE COMBUSTÍVEIS S/A.</td>\n",
              "      <td>282.093</td>\n",
              "      <td>BASES DO RAMO DE COMBUSTÍVEIS</td>\n",
              "      <td>77500000.0</td>\n",
              "      <td>ROD PATIO DE INTEGRACAO INTERMODAL DA FERROVIA...</td>\n",
              "      <td>S/N</td>\n",
              "      <td>Setor Central</td>\n",
              "      <td>NaN</td>\n",
              "      <td>PORTO NACIONAL</td>\n",
              "      <td>TO</td>\n",
              "      <td>10.685,25</td>\n",
              "      <td>100.0</td>\n",
              "      <td>Sim</td>\n",
              "      <td>165</td>\n",
              "      <td>25/03/2021</td>\n",
              "    </tr>\n",
              "  </tbody>\n",
              "</table>\n",
              "<p>453 rows × 16 columns</p>\n",
              "</div>\n",
              "      <button class=\"colab-df-convert\" onclick=\"convertToInteractive('df-c1dc7d1b-f854-4a5d-9ef1-205fe90b4400')\"\n",
              "              title=\"Convert this dataframe to an interactive table.\"\n",
              "              style=\"display:none;\">\n",
              "        \n",
              "  <svg xmlns=\"http://www.w3.org/2000/svg\" height=\"24px\"viewBox=\"0 0 24 24\"\n",
              "       width=\"24px\">\n",
              "    <path d=\"M0 0h24v24H0V0z\" fill=\"none\"/>\n",
              "    <path d=\"M18.56 5.44l.94 2.06.94-2.06 2.06-.94-2.06-.94-.94-2.06-.94 2.06-2.06.94zm-11 1L8.5 8.5l.94-2.06 2.06-.94-2.06-.94L8.5 2.5l-.94 2.06-2.06.94zm10 10l.94 2.06.94-2.06 2.06-.94-2.06-.94-.94-2.06-.94 2.06-2.06.94z\"/><path d=\"M17.41 7.96l-1.37-1.37c-.4-.4-.92-.59-1.43-.59-.52 0-1.04.2-1.43.59L10.3 9.45l-7.72 7.72c-.78.78-.78 2.05 0 2.83L4 21.41c.39.39.9.59 1.41.59.51 0 1.02-.2 1.41-.59l7.78-7.78 2.81-2.81c.8-.78.8-2.07 0-2.86zM5.41 20L4 18.59l7.72-7.72 1.47 1.35L5.41 20z\"/>\n",
              "  </svg>\n",
              "      </button>\n",
              "      \n",
              "  <style>\n",
              "    .colab-df-container {\n",
              "      display:flex;\n",
              "      flex-wrap:wrap;\n",
              "      gap: 12px;\n",
              "    }\n",
              "\n",
              "    .colab-df-convert {\n",
              "      background-color: #E8F0FE;\n",
              "      border: none;\n",
              "      border-radius: 50%;\n",
              "      cursor: pointer;\n",
              "      display: none;\n",
              "      fill: #1967D2;\n",
              "      height: 32px;\n",
              "      padding: 0 0 0 0;\n",
              "      width: 32px;\n",
              "    }\n",
              "\n",
              "    .colab-df-convert:hover {\n",
              "      background-color: #E2EBFA;\n",
              "      box-shadow: 0px 1px 2px rgba(60, 64, 67, 0.3), 0px 1px 3px 1px rgba(60, 64, 67, 0.15);\n",
              "      fill: #174EA6;\n",
              "    }\n",
              "\n",
              "    [theme=dark] .colab-df-convert {\n",
              "      background-color: #3B4455;\n",
              "      fill: #D2E3FC;\n",
              "    }\n",
              "\n",
              "    [theme=dark] .colab-df-convert:hover {\n",
              "      background-color: #434B5C;\n",
              "      box-shadow: 0px 1px 3px 1px rgba(0, 0, 0, 0.15);\n",
              "      filter: drop-shadow(0px 1px 2px rgba(0, 0, 0, 0.3));\n",
              "      fill: #FFFFFF;\n",
              "    }\n",
              "  </style>\n",
              "\n",
              "      <script>\n",
              "        const buttonEl =\n",
              "          document.querySelector('#df-c1dc7d1b-f854-4a5d-9ef1-205fe90b4400 button.colab-df-convert');\n",
              "        buttonEl.style.display =\n",
              "          google.colab.kernel.accessAllowed ? 'block' : 'none';\n",
              "\n",
              "        async function convertToInteractive(key) {\n",
              "          const element = document.querySelector('#df-c1dc7d1b-f854-4a5d-9ef1-205fe90b4400');\n",
              "          const dataTable =\n",
              "            await google.colab.kernel.invokeFunction('convertToInteractive',\n",
              "                                                     [key], {});\n",
              "          if (!dataTable) return;\n",
              "\n",
              "          const docLinkHtml = 'Like what you see? Visit the ' +\n",
              "            '<a target=\"_blank\" href=https://colab.research.google.com/notebooks/data_table.ipynb>data table notebook</a>'\n",
              "            + ' to learn more about interactive tables.';\n",
              "          element.innerHTML = '';\n",
              "          dataTable['output_type'] = 'display_data';\n",
              "          await google.colab.output.renderOutput(dataTable, element);\n",
              "          const docLink = document.createElement('div');\n",
              "          docLink.innerHTML = docLinkHtml;\n",
              "          element.appendChild(docLink);\n",
              "        }\n",
              "      </script>\n",
              "    </div>\n",
              "  </div>\n",
              "  "
            ]
          },
          "metadata": {},
          "execution_count": 8
        }
      ]
    },
    {
      "cell_type": "markdown",
      "source": [
        "*Ao carregar somente o nome do objeto em dataframe, aparece uma pequena tabela com algumas informações do que está salvo nele.*"
      ],
      "metadata": {
        "id": "ybcU-eX_j_OH"
      }
    },
    {
      "cell_type": "code",
      "source": [
        "base_distribuicao.info"
      ],
      "metadata": {
        "colab": {
          "base_uri": "https://localhost:8080/"
        },
        "id": "HGTyi1XLjCXe",
        "outputId": "6da91ae6-aa7e-4db9-9927-c8588f0211ab"
      },
      "execution_count": 9,
      "outputs": [
        {
          "output_type": "execute_result",
          "data": {
            "text/plain": [
              "<bound method DataFrame.info of                    CNPJ                                       Razão Social  \\\n",
              "0    02.805.889/0008-86      LARCO COMERCIAL DE PRODUTOS DE PETRÓLEO LTDA.   \n",
              "1    01.241.994/0004-43             TDC DISTRIBUIDORA DE COMBUSTÍVEIS S/A.   \n",
              "2    01.557.353/0001-50          PETROSERRA DISTRIBUIDORA DE PETRÓLEO LTDA   \n",
              "3    34.274.233/0080-06                                  VIBRA ENERGIA S.A   \n",
              "4    34.274.233/0080-06                                  VIBRA ENERGIA S.A   \n",
              "..                  ...                                                ...   \n",
              "448  34.274.233/0238-11                                  VIBRA ENERGIA S.A   \n",
              "449  33.453.598/0092-60                                        RAIZEN S.A.   \n",
              "450  10.383.235/0002-44  EVEREST DISTRIBUIDORA DE DERIVADOS DE PETRÓLEO...   \n",
              "451  34.226.839/0001-64         PETRO NORTE DISTRIBUIDORA DE PETROLEO LTDA   \n",
              "452  01.241.994/0016-87             TDC DISTRIBUIDORA DE COMBUSTÍVEIS S/A.   \n",
              "\n",
              "    Número de Ordem             Tipo de Instalação         Cep  \\\n",
              "0             1.865  BASES DO RAMO DE COMBUSTÍVEIS  47850000.0   \n",
              "1            59.563  BASES DO RAMO DE COMBUSTÍVEIS  43900000.0   \n",
              "2            59.580  BASES DO RAMO DE COMBUSTÍVEIS  45202130.0   \n",
              "3            59.904     BASES DO RAMO DE SOLVENTES  43900000.0   \n",
              "4            59.904  BASES DO RAMO DE COMBUSTÍVEIS  43900000.0   \n",
              "..              ...                            ...         ...   \n",
              "448         185.386  BASES DO RAMO DE COMBUSTÍVEIS  77500000.0   \n",
              "449         197.161  BASES DO RAMO DE COMBUSTÍVEIS  77500000.0   \n",
              "450         242.590  BASES DO RAMO DE COMBUSTÍVEIS   7740210.0   \n",
              "451         280.977  BASES DO RAMO DE COMBUSTÍVEIS  77600000.0   \n",
              "452         282.093  BASES DO RAMO DE COMBUSTÍVEIS  77500000.0   \n",
              "\n",
              "                                    Endereço da Matriz Número  \\\n",
              "0                                        GLAUBER ROCHA    S/N   \n",
              "1                                RODOVIA MADRE DE DEUS    S/N   \n",
              "2                                       RODOVIA BR 116    S/N   \n",
              "3                     RODOVIA CANDEIAS - MADRE DE DEUS    S/N   \n",
              "4                     RODOVIA CANDEIAS - MADRE DE DEUS    S/N   \n",
              "..                                                 ...    ...   \n",
              "448                     RODOVIA TO-080, KM 23, LOTE 12   S/Nº   \n",
              "449                         FERROVIA NORTE SUL LOTE 14  S/N.º   \n",
              "450  ROD BR-153, KM 6635 GLEBA 8 II ETAPA LOTE 38 -...   S/N,   \n",
              "451                      RODOVIA TO-080 KM 45 +300 MTS    S/N   \n",
              "452  ROD PATIO DE INTEGRACAO INTERMODAL DA FERROVIA...    S/N   \n",
              "\n",
              "                                       Bairro  \\\n",
              "0                              JARDIM PARAÍSO   \n",
              "1                                       CAIPÉ   \n",
              "2                               JOAQUIM ROMAO   \n",
              "3                                    MATARIPE   \n",
              "4                                    MATARIPE   \n",
              "..                                        ...   \n",
              "448  PÁTIO DE INTEGRAÇÃO DA FERROVIA NORTE SU   \n",
              "449                             SETOR CENTRAL   \n",
              "450                             SETOR CENTRAL   \n",
              "451                             Setor Central   \n",
              "452                             Setor Central   \n",
              "\n",
              "                                          Complemento               Município  \\\n",
              "0                                 QUADRA 84 - LOTE 02  LUIS EDUARDO MAGALHAES   \n",
              "1                                             KM 42,5  SAO FRANCISCO DO CONDE   \n",
              "2                                              KM 706                  JEQUIE   \n",
              "3                                              KM 6,2  SAO FRANCISCO DO CONDE   \n",
              "4                                              KM 6,2  SAO FRANCISCO DO CONDE   \n",
              "..                                                ...                     ...   \n",
              "448                                                 .          PORTO NACIONAL   \n",
              "449  PÁTIO DE INTEGRAÇÃO MULTIMODAL DE PORTO NACIONAL          PORTO NACIONAL   \n",
              "450                                               NaN                  GURUPI   \n",
              "451                                  LOTES 77,78 E 79    PARAISO DO TOCANTINS   \n",
              "452                                               NaN          PORTO NACIONAL   \n",
              "\n",
              "     UF Capacidade Total  Participacao (%) Administrador? Número Autorização  \\\n",
              "0    BA         3.706,77             100.0            Sim                820   \n",
              "1    BA         7.172,00             100.0            Sim         ANP Nº 397   \n",
              "2    BA         5.903,07             100.0            Sim                142   \n",
              "3    BA        56.508,61             100.0            Sim                485   \n",
              "4    BA        46.749,73             100.0            Sim                233   \n",
              "..   ..              ...               ...            ...                ...   \n",
              "448  TO        29.563,00             100.0            Sim                705   \n",
              "449  TO        13.764,99             100.0            Sim                888   \n",
              "450  TO         1.078,30             100.0            Sim                402   \n",
              "451  TO         1.700,00             100.0            Sim                 88   \n",
              "452  TO        10.685,25             100.0            Sim                165   \n",
              "\n",
              "    Data Publicação  \n",
              "0        24/12/2021  \n",
              "1        19/07/2000  \n",
              "2        12/04/2017  \n",
              "3        16/10/2009  \n",
              "4        17/04/2019  \n",
              "..              ...  \n",
              "448      19/09/2013  \n",
              "449      09/12/2020  \n",
              "450      24/07/2017  \n",
              "451      12/02/2021  \n",
              "452      25/03/2021  \n",
              "\n",
              "[453 rows x 16 columns]>"
            ]
          },
          "metadata": {},
          "execution_count": 9
        }
      ]
    },
    {
      "cell_type": "markdown",
      "source": [
        "*Ao carregar o banco de dados e junto a função '.info', aparece informações dele - um pouco desorganizado, mas de fácil visualização a suas variáveis.*"
      ],
      "metadata": {
        "id": "gZqWwt--kbOf"
      }
    },
    {
      "cell_type": "markdown",
      "source": [
        "##########O que eu posso fazer com esses dados?\n",
        "\n",
        "\n",
        "\n"
      ],
      "metadata": {
        "id": "LcbajgYJiZw9"
      }
    },
    {
      "cell_type": "markdown",
      "source": [
        "### **Liquidos entregas distribuidor**"
      ],
      "metadata": {
        "id": "3prFAOWiigVU"
      }
    },
    {
      "cell_type": "code",
      "source": [
        "entregas_distribuidor"
      ],
      "metadata": {
        "colab": {
          "base_uri": "https://localhost:8080/",
          "height": 0
        },
        "id": "OGgEPbulifYK",
        "outputId": "204a8206-1e46-4240-b97e-d1edc58a4786"
      },
      "execution_count": 10,
      "outputs": [
        {
          "output_type": "execute_result",
          "data": {
            "text/plain": [
              "        Ano  Mês                               Distribuidor  \\\n",
              "0      2020    1   76 OIL DISTRIBUIDORA DE COMBUSTÍVEIS S/A   \n",
              "1      2020    1   76 OIL DISTRIBUIDORA DE COMBUSTÍVEIS S/A   \n",
              "2      2020    1   76 OIL DISTRIBUIDORA DE COMBUSTÍVEIS S/A   \n",
              "3      2020    1   76 OIL DISTRIBUIDORA DE COMBUSTÍVEIS S/A   \n",
              "4      2020    1   ACOL DISTRIBUIDORA DE COMBUSTÍVEIS LTDA.   \n",
              "...     ...  ...                                        ...   \n",
              "24292  2022    4  YPETRO DISTRIBUIDORA DE COMBUSTIVEIS S.A.   \n",
              "24293  2022    4  YPETRO DISTRIBUIDORA DE COMBUSTIVEIS S.A.   \n",
              "24294  2022    4  YPETRO DISTRIBUIDORA DE COMBUSTIVEIS S.A.   \n",
              "24295  2022    4  YPETRO DISTRIBUIDORA DE COMBUSTIVEIS S.A.   \n",
              "24296  2022    4  YPETRO DISTRIBUIDORA DE COMBUSTIVEIS S.A.   \n",
              "\n",
              "       Código do Produto Nome do Produto Região  \\\n",
              "0              320101001      Gasolina A     SE   \n",
              "1              420105001        Diesel A     SE   \n",
              "2              810101001             EHC     SE   \n",
              "3              810102004             EAC     SE   \n",
              "4              320101001      Gasolina A     CO   \n",
              "...                  ...             ...    ...   \n",
              "24292          320101001      Gasolina A     NE   \n",
              "24293          420102004        Diesel A     NE   \n",
              "24294          420105001        Diesel A     NE   \n",
              "24295          810101001             EHC     NE   \n",
              "24296          810102004             EAC     NE   \n",
              "\n",
              "       Quantidade de Produto (mil m³)  \n",
              "0                           24.947138  \n",
              "1                            2.722000  \n",
              "2                           16.894680  \n",
              "3                            9.429621  \n",
              "4                            0.488862  \n",
              "...                               ...  \n",
              "24292                        1.000316  \n",
              "24293                        0.249730  \n",
              "24294                        0.435404  \n",
              "24295                        0.715279  \n",
              "24296                        0.518883  \n",
              "\n",
              "[24297 rows x 7 columns]"
            ],
            "text/html": [
              "\n",
              "  <div id=\"df-4398b63b-2141-4160-8869-99b9387ddd48\">\n",
              "    <div class=\"colab-df-container\">\n",
              "      <div>\n",
              "<style scoped>\n",
              "    .dataframe tbody tr th:only-of-type {\n",
              "        vertical-align: middle;\n",
              "    }\n",
              "\n",
              "    .dataframe tbody tr th {\n",
              "        vertical-align: top;\n",
              "    }\n",
              "\n",
              "    .dataframe thead th {\n",
              "        text-align: right;\n",
              "    }\n",
              "</style>\n",
              "<table border=\"1\" class=\"dataframe\">\n",
              "  <thead>\n",
              "    <tr style=\"text-align: right;\">\n",
              "      <th></th>\n",
              "      <th>Ano</th>\n",
              "      <th>Mês</th>\n",
              "      <th>Distribuidor</th>\n",
              "      <th>Código do Produto</th>\n",
              "      <th>Nome do Produto</th>\n",
              "      <th>Região</th>\n",
              "      <th>Quantidade de Produto (mil m³)</th>\n",
              "    </tr>\n",
              "  </thead>\n",
              "  <tbody>\n",
              "    <tr>\n",
              "      <th>0</th>\n",
              "      <td>2020</td>\n",
              "      <td>1</td>\n",
              "      <td>76 OIL DISTRIBUIDORA DE COMBUSTÍVEIS S/A</td>\n",
              "      <td>320101001</td>\n",
              "      <td>Gasolina A</td>\n",
              "      <td>SE</td>\n",
              "      <td>24.947138</td>\n",
              "    </tr>\n",
              "    <tr>\n",
              "      <th>1</th>\n",
              "      <td>2020</td>\n",
              "      <td>1</td>\n",
              "      <td>76 OIL DISTRIBUIDORA DE COMBUSTÍVEIS S/A</td>\n",
              "      <td>420105001</td>\n",
              "      <td>Diesel A</td>\n",
              "      <td>SE</td>\n",
              "      <td>2.722000</td>\n",
              "    </tr>\n",
              "    <tr>\n",
              "      <th>2</th>\n",
              "      <td>2020</td>\n",
              "      <td>1</td>\n",
              "      <td>76 OIL DISTRIBUIDORA DE COMBUSTÍVEIS S/A</td>\n",
              "      <td>810101001</td>\n",
              "      <td>EHC</td>\n",
              "      <td>SE</td>\n",
              "      <td>16.894680</td>\n",
              "    </tr>\n",
              "    <tr>\n",
              "      <th>3</th>\n",
              "      <td>2020</td>\n",
              "      <td>1</td>\n",
              "      <td>76 OIL DISTRIBUIDORA DE COMBUSTÍVEIS S/A</td>\n",
              "      <td>810102004</td>\n",
              "      <td>EAC</td>\n",
              "      <td>SE</td>\n",
              "      <td>9.429621</td>\n",
              "    </tr>\n",
              "    <tr>\n",
              "      <th>4</th>\n",
              "      <td>2020</td>\n",
              "      <td>1</td>\n",
              "      <td>ACOL DISTRIBUIDORA DE COMBUSTÍVEIS LTDA.</td>\n",
              "      <td>320101001</td>\n",
              "      <td>Gasolina A</td>\n",
              "      <td>CO</td>\n",
              "      <td>0.488862</td>\n",
              "    </tr>\n",
              "    <tr>\n",
              "      <th>...</th>\n",
              "      <td>...</td>\n",
              "      <td>...</td>\n",
              "      <td>...</td>\n",
              "      <td>...</td>\n",
              "      <td>...</td>\n",
              "      <td>...</td>\n",
              "      <td>...</td>\n",
              "    </tr>\n",
              "    <tr>\n",
              "      <th>24292</th>\n",
              "      <td>2022</td>\n",
              "      <td>4</td>\n",
              "      <td>YPETRO DISTRIBUIDORA DE COMBUSTIVEIS S.A.</td>\n",
              "      <td>320101001</td>\n",
              "      <td>Gasolina A</td>\n",
              "      <td>NE</td>\n",
              "      <td>1.000316</td>\n",
              "    </tr>\n",
              "    <tr>\n",
              "      <th>24293</th>\n",
              "      <td>2022</td>\n",
              "      <td>4</td>\n",
              "      <td>YPETRO DISTRIBUIDORA DE COMBUSTIVEIS S.A.</td>\n",
              "      <td>420102004</td>\n",
              "      <td>Diesel A</td>\n",
              "      <td>NE</td>\n",
              "      <td>0.249730</td>\n",
              "    </tr>\n",
              "    <tr>\n",
              "      <th>24294</th>\n",
              "      <td>2022</td>\n",
              "      <td>4</td>\n",
              "      <td>YPETRO DISTRIBUIDORA DE COMBUSTIVEIS S.A.</td>\n",
              "      <td>420105001</td>\n",
              "      <td>Diesel A</td>\n",
              "      <td>NE</td>\n",
              "      <td>0.435404</td>\n",
              "    </tr>\n",
              "    <tr>\n",
              "      <th>24295</th>\n",
              "      <td>2022</td>\n",
              "      <td>4</td>\n",
              "      <td>YPETRO DISTRIBUIDORA DE COMBUSTIVEIS S.A.</td>\n",
              "      <td>810101001</td>\n",
              "      <td>EHC</td>\n",
              "      <td>NE</td>\n",
              "      <td>0.715279</td>\n",
              "    </tr>\n",
              "    <tr>\n",
              "      <th>24296</th>\n",
              "      <td>2022</td>\n",
              "      <td>4</td>\n",
              "      <td>YPETRO DISTRIBUIDORA DE COMBUSTIVEIS S.A.</td>\n",
              "      <td>810102004</td>\n",
              "      <td>EAC</td>\n",
              "      <td>NE</td>\n",
              "      <td>0.518883</td>\n",
              "    </tr>\n",
              "  </tbody>\n",
              "</table>\n",
              "<p>24297 rows × 7 columns</p>\n",
              "</div>\n",
              "      <button class=\"colab-df-convert\" onclick=\"convertToInteractive('df-4398b63b-2141-4160-8869-99b9387ddd48')\"\n",
              "              title=\"Convert this dataframe to an interactive table.\"\n",
              "              style=\"display:none;\">\n",
              "        \n",
              "  <svg xmlns=\"http://www.w3.org/2000/svg\" height=\"24px\"viewBox=\"0 0 24 24\"\n",
              "       width=\"24px\">\n",
              "    <path d=\"M0 0h24v24H0V0z\" fill=\"none\"/>\n",
              "    <path d=\"M18.56 5.44l.94 2.06.94-2.06 2.06-.94-2.06-.94-.94-2.06-.94 2.06-2.06.94zm-11 1L8.5 8.5l.94-2.06 2.06-.94-2.06-.94L8.5 2.5l-.94 2.06-2.06.94zm10 10l.94 2.06.94-2.06 2.06-.94-2.06-.94-.94-2.06-.94 2.06-2.06.94z\"/><path d=\"M17.41 7.96l-1.37-1.37c-.4-.4-.92-.59-1.43-.59-.52 0-1.04.2-1.43.59L10.3 9.45l-7.72 7.72c-.78.78-.78 2.05 0 2.83L4 21.41c.39.39.9.59 1.41.59.51 0 1.02-.2 1.41-.59l7.78-7.78 2.81-2.81c.8-.78.8-2.07 0-2.86zM5.41 20L4 18.59l7.72-7.72 1.47 1.35L5.41 20z\"/>\n",
              "  </svg>\n",
              "      </button>\n",
              "      \n",
              "  <style>\n",
              "    .colab-df-container {\n",
              "      display:flex;\n",
              "      flex-wrap:wrap;\n",
              "      gap: 12px;\n",
              "    }\n",
              "\n",
              "    .colab-df-convert {\n",
              "      background-color: #E8F0FE;\n",
              "      border: none;\n",
              "      border-radius: 50%;\n",
              "      cursor: pointer;\n",
              "      display: none;\n",
              "      fill: #1967D2;\n",
              "      height: 32px;\n",
              "      padding: 0 0 0 0;\n",
              "      width: 32px;\n",
              "    }\n",
              "\n",
              "    .colab-df-convert:hover {\n",
              "      background-color: #E2EBFA;\n",
              "      box-shadow: 0px 1px 2px rgba(60, 64, 67, 0.3), 0px 1px 3px 1px rgba(60, 64, 67, 0.15);\n",
              "      fill: #174EA6;\n",
              "    }\n",
              "\n",
              "    [theme=dark] .colab-df-convert {\n",
              "      background-color: #3B4455;\n",
              "      fill: #D2E3FC;\n",
              "    }\n",
              "\n",
              "    [theme=dark] .colab-df-convert:hover {\n",
              "      background-color: #434B5C;\n",
              "      box-shadow: 0px 1px 3px 1px rgba(0, 0, 0, 0.15);\n",
              "      filter: drop-shadow(0px 1px 2px rgba(0, 0, 0, 0.3));\n",
              "      fill: #FFFFFF;\n",
              "    }\n",
              "  </style>\n",
              "\n",
              "      <script>\n",
              "        const buttonEl =\n",
              "          document.querySelector('#df-4398b63b-2141-4160-8869-99b9387ddd48 button.colab-df-convert');\n",
              "        buttonEl.style.display =\n",
              "          google.colab.kernel.accessAllowed ? 'block' : 'none';\n",
              "\n",
              "        async function convertToInteractive(key) {\n",
              "          const element = document.querySelector('#df-4398b63b-2141-4160-8869-99b9387ddd48');\n",
              "          const dataTable =\n",
              "            await google.colab.kernel.invokeFunction('convertToInteractive',\n",
              "                                                     [key], {});\n",
              "          if (!dataTable) return;\n",
              "\n",
              "          const docLinkHtml = 'Like what you see? Visit the ' +\n",
              "            '<a target=\"_blank\" href=https://colab.research.google.com/notebooks/data_table.ipynb>data table notebook</a>'\n",
              "            + ' to learn more about interactive tables.';\n",
              "          element.innerHTML = '';\n",
              "          dataTable['output_type'] = 'display_data';\n",
              "          await google.colab.output.renderOutput(dataTable, element);\n",
              "          const docLink = document.createElement('div');\n",
              "          docLink.innerHTML = docLinkHtml;\n",
              "          element.appendChild(docLink);\n",
              "        }\n",
              "      </script>\n",
              "    </div>\n",
              "  </div>\n",
              "  "
            ]
          },
          "metadata": {},
          "execution_count": 10
        }
      ]
    },
    {
      "cell_type": "code",
      "source": [
        "entregas_distribuidor.info"
      ],
      "metadata": {
        "colab": {
          "base_uri": "https://localhost:8080/"
        },
        "id": "8smFVXxHk-Ae",
        "outputId": "07900bf1-3fab-4e93-c59f-8e1e0e5eb711"
      },
      "execution_count": 11,
      "outputs": [
        {
          "output_type": "execute_result",
          "data": {
            "text/plain": [
              "<bound method DataFrame.info of         Ano  Mês                               Distribuidor  \\\n",
              "0      2020    1   76 OIL DISTRIBUIDORA DE COMBUSTÍVEIS S/A   \n",
              "1      2020    1   76 OIL DISTRIBUIDORA DE COMBUSTÍVEIS S/A   \n",
              "2      2020    1   76 OIL DISTRIBUIDORA DE COMBUSTÍVEIS S/A   \n",
              "3      2020    1   76 OIL DISTRIBUIDORA DE COMBUSTÍVEIS S/A   \n",
              "4      2020    1   ACOL DISTRIBUIDORA DE COMBUSTÍVEIS LTDA.   \n",
              "...     ...  ...                                        ...   \n",
              "24292  2022    4  YPETRO DISTRIBUIDORA DE COMBUSTIVEIS S.A.   \n",
              "24293  2022    4  YPETRO DISTRIBUIDORA DE COMBUSTIVEIS S.A.   \n",
              "24294  2022    4  YPETRO DISTRIBUIDORA DE COMBUSTIVEIS S.A.   \n",
              "24295  2022    4  YPETRO DISTRIBUIDORA DE COMBUSTIVEIS S.A.   \n",
              "24296  2022    4  YPETRO DISTRIBUIDORA DE COMBUSTIVEIS S.A.   \n",
              "\n",
              "       Código do Produto Nome do Produto Região  \\\n",
              "0              320101001      Gasolina A     SE   \n",
              "1              420105001        Diesel A     SE   \n",
              "2              810101001             EHC     SE   \n",
              "3              810102004             EAC     SE   \n",
              "4              320101001      Gasolina A     CO   \n",
              "...                  ...             ...    ...   \n",
              "24292          320101001      Gasolina A     NE   \n",
              "24293          420102004        Diesel A     NE   \n",
              "24294          420105001        Diesel A     NE   \n",
              "24295          810101001             EHC     NE   \n",
              "24296          810102004             EAC     NE   \n",
              "\n",
              "       Quantidade de Produto (mil m³)  \n",
              "0                           24.947138  \n",
              "1                            2.722000  \n",
              "2                           16.894680  \n",
              "3                            9.429621  \n",
              "4                            0.488862  \n",
              "...                               ...  \n",
              "24292                        1.000316  \n",
              "24293                        0.249730  \n",
              "24294                        0.435404  \n",
              "24295                        0.715279  \n",
              "24296                        0.518883  \n",
              "\n",
              "[24297 rows x 7 columns]>"
            ]
          },
          "metadata": {},
          "execution_count": 11
        }
      ]
    },
    {
      "cell_type": "markdown",
      "source": [
        "### **Liquidos entregas fornecedor**"
      ],
      "metadata": {
        "id": "g4Cgr7suix4I"
      }
    },
    {
      "cell_type": "code",
      "source": [
        "entregas_fornecedor"
      ],
      "metadata": {
        "colab": {
          "base_uri": "https://localhost:8080/",
          "height": 0
        },
        "id": "ckQW6ZO7i1cA",
        "outputId": "31a8d0cf-ed76-43f1-e68d-40a2a38b7f8d"
      },
      "execution_count": 12,
      "outputs": [
        {
          "output_type": "execute_result",
          "data": {
            "text/plain": [
              "         Ano  Mes                           Agente_Regulador  Codigo_Produto  \\\n",
              "0       2007    1           ABENGOA BIOENERGIA SÃO JOÃO LTDA       810101001   \n",
              "1       2007    1           ABENGOA BIOENERGIA SÃO JOÃO LTDA       810101001   \n",
              "2       2007    1           ABENGOA BIOENERGIA SÃO JOÃO LTDA       810101001   \n",
              "3       2007    1           ABENGOA BIOENERGIA SÃO JOÃO LTDA       810101001   \n",
              "4       2007    1           ABENGOA BIOENERGIA SÃO JOÃO LTDA       810101001   \n",
              "...      ...  ...                                        ...             ...   \n",
              "964630  2019   12  YPETRO DISTRIBUIDORA DE COMBUSTIVEIS S.A.       820101034   \n",
              "964631  2019   12  YPETRO DISTRIBUIDORA DE COMBUSTIVEIS S.A.       820101034   \n",
              "964632  2019   12  YPETRO DISTRIBUIDORA DE COMBUSTIVEIS S.A.       820101034   \n",
              "964633  2019   12  YPETRO DISTRIBUIDORA DE COMBUSTIVEIS S.A.       820101034   \n",
              "964634  2019   12  YPETRO DISTRIBUIDORA DE COMBUSTIVEIS S.A.       820101034   \n",
              "\n",
              "            Nome_Produto Regiao_Origem UF_Origem Regiao_Destinatario     QUANT  \n",
              "0       Etanol Hidratado            SE        SP                  NI  1.981765  \n",
              "1       Etanol Hidratado            SE        SP                  SE  0.024030  \n",
              "2       Etanol Hidratado            SE        SP                  SE  1.297300  \n",
              "3       Etanol Hidratado            SE        SP                  SE  0.061000  \n",
              "4       Etanol Hidratado            SE        SP                  SE  0.989174  \n",
              "...                  ...           ...       ...                 ...       ...  \n",
              "964630          Diesel B            NE        CE                  NE  0.398000  \n",
              "964631          Diesel B            NE        CE                  NE  0.606200  \n",
              "964632          Diesel B            NE        CE                  NE  0.041000  \n",
              "964633          Diesel B            NE        RN                  NE  0.115000  \n",
              "964634          Diesel B            NE        RN                  NE  0.275000  \n",
              "\n",
              "[964635 rows x 9 columns]"
            ],
            "text/html": [
              "\n",
              "  <div id=\"df-bde5a816-6bc5-41bd-b03c-c1cb041f6732\">\n",
              "    <div class=\"colab-df-container\">\n",
              "      <div>\n",
              "<style scoped>\n",
              "    .dataframe tbody tr th:only-of-type {\n",
              "        vertical-align: middle;\n",
              "    }\n",
              "\n",
              "    .dataframe tbody tr th {\n",
              "        vertical-align: top;\n",
              "    }\n",
              "\n",
              "    .dataframe thead th {\n",
              "        text-align: right;\n",
              "    }\n",
              "</style>\n",
              "<table border=\"1\" class=\"dataframe\">\n",
              "  <thead>\n",
              "    <tr style=\"text-align: right;\">\n",
              "      <th></th>\n",
              "      <th>Ano</th>\n",
              "      <th>Mes</th>\n",
              "      <th>Agente_Regulador</th>\n",
              "      <th>Codigo_Produto</th>\n",
              "      <th>Nome_Produto</th>\n",
              "      <th>Regiao_Origem</th>\n",
              "      <th>UF_Origem</th>\n",
              "      <th>Regiao_Destinatario</th>\n",
              "      <th>QUANT</th>\n",
              "    </tr>\n",
              "  </thead>\n",
              "  <tbody>\n",
              "    <tr>\n",
              "      <th>0</th>\n",
              "      <td>2007</td>\n",
              "      <td>1</td>\n",
              "      <td>ABENGOA BIOENERGIA SÃO JOÃO LTDA</td>\n",
              "      <td>810101001</td>\n",
              "      <td>Etanol Hidratado</td>\n",
              "      <td>SE</td>\n",
              "      <td>SP</td>\n",
              "      <td>NI</td>\n",
              "      <td>1.981765</td>\n",
              "    </tr>\n",
              "    <tr>\n",
              "      <th>1</th>\n",
              "      <td>2007</td>\n",
              "      <td>1</td>\n",
              "      <td>ABENGOA BIOENERGIA SÃO JOÃO LTDA</td>\n",
              "      <td>810101001</td>\n",
              "      <td>Etanol Hidratado</td>\n",
              "      <td>SE</td>\n",
              "      <td>SP</td>\n",
              "      <td>SE</td>\n",
              "      <td>0.024030</td>\n",
              "    </tr>\n",
              "    <tr>\n",
              "      <th>2</th>\n",
              "      <td>2007</td>\n",
              "      <td>1</td>\n",
              "      <td>ABENGOA BIOENERGIA SÃO JOÃO LTDA</td>\n",
              "      <td>810101001</td>\n",
              "      <td>Etanol Hidratado</td>\n",
              "      <td>SE</td>\n",
              "      <td>SP</td>\n",
              "      <td>SE</td>\n",
              "      <td>1.297300</td>\n",
              "    </tr>\n",
              "    <tr>\n",
              "      <th>3</th>\n",
              "      <td>2007</td>\n",
              "      <td>1</td>\n",
              "      <td>ABENGOA BIOENERGIA SÃO JOÃO LTDA</td>\n",
              "      <td>810101001</td>\n",
              "      <td>Etanol Hidratado</td>\n",
              "      <td>SE</td>\n",
              "      <td>SP</td>\n",
              "      <td>SE</td>\n",
              "      <td>0.061000</td>\n",
              "    </tr>\n",
              "    <tr>\n",
              "      <th>4</th>\n",
              "      <td>2007</td>\n",
              "      <td>1</td>\n",
              "      <td>ABENGOA BIOENERGIA SÃO JOÃO LTDA</td>\n",
              "      <td>810101001</td>\n",
              "      <td>Etanol Hidratado</td>\n",
              "      <td>SE</td>\n",
              "      <td>SP</td>\n",
              "      <td>SE</td>\n",
              "      <td>0.989174</td>\n",
              "    </tr>\n",
              "    <tr>\n",
              "      <th>...</th>\n",
              "      <td>...</td>\n",
              "      <td>...</td>\n",
              "      <td>...</td>\n",
              "      <td>...</td>\n",
              "      <td>...</td>\n",
              "      <td>...</td>\n",
              "      <td>...</td>\n",
              "      <td>...</td>\n",
              "      <td>...</td>\n",
              "    </tr>\n",
              "    <tr>\n",
              "      <th>964630</th>\n",
              "      <td>2019</td>\n",
              "      <td>12</td>\n",
              "      <td>YPETRO DISTRIBUIDORA DE COMBUSTIVEIS S.A.</td>\n",
              "      <td>820101034</td>\n",
              "      <td>Diesel B</td>\n",
              "      <td>NE</td>\n",
              "      <td>CE</td>\n",
              "      <td>NE</td>\n",
              "      <td>0.398000</td>\n",
              "    </tr>\n",
              "    <tr>\n",
              "      <th>964631</th>\n",
              "      <td>2019</td>\n",
              "      <td>12</td>\n",
              "      <td>YPETRO DISTRIBUIDORA DE COMBUSTIVEIS S.A.</td>\n",
              "      <td>820101034</td>\n",
              "      <td>Diesel B</td>\n",
              "      <td>NE</td>\n",
              "      <td>CE</td>\n",
              "      <td>NE</td>\n",
              "      <td>0.606200</td>\n",
              "    </tr>\n",
              "    <tr>\n",
              "      <th>964632</th>\n",
              "      <td>2019</td>\n",
              "      <td>12</td>\n",
              "      <td>YPETRO DISTRIBUIDORA DE COMBUSTIVEIS S.A.</td>\n",
              "      <td>820101034</td>\n",
              "      <td>Diesel B</td>\n",
              "      <td>NE</td>\n",
              "      <td>CE</td>\n",
              "      <td>NE</td>\n",
              "      <td>0.041000</td>\n",
              "    </tr>\n",
              "    <tr>\n",
              "      <th>964633</th>\n",
              "      <td>2019</td>\n",
              "      <td>12</td>\n",
              "      <td>YPETRO DISTRIBUIDORA DE COMBUSTIVEIS S.A.</td>\n",
              "      <td>820101034</td>\n",
              "      <td>Diesel B</td>\n",
              "      <td>NE</td>\n",
              "      <td>RN</td>\n",
              "      <td>NE</td>\n",
              "      <td>0.115000</td>\n",
              "    </tr>\n",
              "    <tr>\n",
              "      <th>964634</th>\n",
              "      <td>2019</td>\n",
              "      <td>12</td>\n",
              "      <td>YPETRO DISTRIBUIDORA DE COMBUSTIVEIS S.A.</td>\n",
              "      <td>820101034</td>\n",
              "      <td>Diesel B</td>\n",
              "      <td>NE</td>\n",
              "      <td>RN</td>\n",
              "      <td>NE</td>\n",
              "      <td>0.275000</td>\n",
              "    </tr>\n",
              "  </tbody>\n",
              "</table>\n",
              "<p>964635 rows × 9 columns</p>\n",
              "</div>\n",
              "      <button class=\"colab-df-convert\" onclick=\"convertToInteractive('df-bde5a816-6bc5-41bd-b03c-c1cb041f6732')\"\n",
              "              title=\"Convert this dataframe to an interactive table.\"\n",
              "              style=\"display:none;\">\n",
              "        \n",
              "  <svg xmlns=\"http://www.w3.org/2000/svg\" height=\"24px\"viewBox=\"0 0 24 24\"\n",
              "       width=\"24px\">\n",
              "    <path d=\"M0 0h24v24H0V0z\" fill=\"none\"/>\n",
              "    <path d=\"M18.56 5.44l.94 2.06.94-2.06 2.06-.94-2.06-.94-.94-2.06-.94 2.06-2.06.94zm-11 1L8.5 8.5l.94-2.06 2.06-.94-2.06-.94L8.5 2.5l-.94 2.06-2.06.94zm10 10l.94 2.06.94-2.06 2.06-.94-2.06-.94-.94-2.06-.94 2.06-2.06.94z\"/><path d=\"M17.41 7.96l-1.37-1.37c-.4-.4-.92-.59-1.43-.59-.52 0-1.04.2-1.43.59L10.3 9.45l-7.72 7.72c-.78.78-.78 2.05 0 2.83L4 21.41c.39.39.9.59 1.41.59.51 0 1.02-.2 1.41-.59l7.78-7.78 2.81-2.81c.8-.78.8-2.07 0-2.86zM5.41 20L4 18.59l7.72-7.72 1.47 1.35L5.41 20z\"/>\n",
              "  </svg>\n",
              "      </button>\n",
              "      \n",
              "  <style>\n",
              "    .colab-df-container {\n",
              "      display:flex;\n",
              "      flex-wrap:wrap;\n",
              "      gap: 12px;\n",
              "    }\n",
              "\n",
              "    .colab-df-convert {\n",
              "      background-color: #E8F0FE;\n",
              "      border: none;\n",
              "      border-radius: 50%;\n",
              "      cursor: pointer;\n",
              "      display: none;\n",
              "      fill: #1967D2;\n",
              "      height: 32px;\n",
              "      padding: 0 0 0 0;\n",
              "      width: 32px;\n",
              "    }\n",
              "\n",
              "    .colab-df-convert:hover {\n",
              "      background-color: #E2EBFA;\n",
              "      box-shadow: 0px 1px 2px rgba(60, 64, 67, 0.3), 0px 1px 3px 1px rgba(60, 64, 67, 0.15);\n",
              "      fill: #174EA6;\n",
              "    }\n",
              "\n",
              "    [theme=dark] .colab-df-convert {\n",
              "      background-color: #3B4455;\n",
              "      fill: #D2E3FC;\n",
              "    }\n",
              "\n",
              "    [theme=dark] .colab-df-convert:hover {\n",
              "      background-color: #434B5C;\n",
              "      box-shadow: 0px 1px 3px 1px rgba(0, 0, 0, 0.15);\n",
              "      filter: drop-shadow(0px 1px 2px rgba(0, 0, 0, 0.3));\n",
              "      fill: #FFFFFF;\n",
              "    }\n",
              "  </style>\n",
              "\n",
              "      <script>\n",
              "        const buttonEl =\n",
              "          document.querySelector('#df-bde5a816-6bc5-41bd-b03c-c1cb041f6732 button.colab-df-convert');\n",
              "        buttonEl.style.display =\n",
              "          google.colab.kernel.accessAllowed ? 'block' : 'none';\n",
              "\n",
              "        async function convertToInteractive(key) {\n",
              "          const element = document.querySelector('#df-bde5a816-6bc5-41bd-b03c-c1cb041f6732');\n",
              "          const dataTable =\n",
              "            await google.colab.kernel.invokeFunction('convertToInteractive',\n",
              "                                                     [key], {});\n",
              "          if (!dataTable) return;\n",
              "\n",
              "          const docLinkHtml = 'Like what you see? Visit the ' +\n",
              "            '<a target=\"_blank\" href=https://colab.research.google.com/notebooks/data_table.ipynb>data table notebook</a>'\n",
              "            + ' to learn more about interactive tables.';\n",
              "          element.innerHTML = '';\n",
              "          dataTable['output_type'] = 'display_data';\n",
              "          await google.colab.output.renderOutput(dataTable, element);\n",
              "          const docLink = document.createElement('div');\n",
              "          docLink.innerHTML = docLinkHtml;\n",
              "          element.appendChild(docLink);\n",
              "        }\n",
              "      </script>\n",
              "    </div>\n",
              "  </div>\n",
              "  "
            ]
          },
          "metadata": {},
          "execution_count": 12
        }
      ]
    },
    {
      "cell_type": "code",
      "source": [
        "entregas_fornecedor.info"
      ],
      "metadata": {
        "colab": {
          "base_uri": "https://localhost:8080/"
        },
        "id": "jKoIXhj2lDfE",
        "outputId": "ff817f6a-b405-404a-e290-cbe058bf07cb"
      },
      "execution_count": 13,
      "outputs": [
        {
          "output_type": "execute_result",
          "data": {
            "text/plain": [
              "<bound method DataFrame.info of          Ano  Mes                           Agente_Regulador  Codigo_Produto  \\\n",
              "0       2007    1           ABENGOA BIOENERGIA SÃO JOÃO LTDA       810101001   \n",
              "1       2007    1           ABENGOA BIOENERGIA SÃO JOÃO LTDA       810101001   \n",
              "2       2007    1           ABENGOA BIOENERGIA SÃO JOÃO LTDA       810101001   \n",
              "3       2007    1           ABENGOA BIOENERGIA SÃO JOÃO LTDA       810101001   \n",
              "4       2007    1           ABENGOA BIOENERGIA SÃO JOÃO LTDA       810101001   \n",
              "...      ...  ...                                        ...             ...   \n",
              "964630  2019   12  YPETRO DISTRIBUIDORA DE COMBUSTIVEIS S.A.       820101034   \n",
              "964631  2019   12  YPETRO DISTRIBUIDORA DE COMBUSTIVEIS S.A.       820101034   \n",
              "964632  2019   12  YPETRO DISTRIBUIDORA DE COMBUSTIVEIS S.A.       820101034   \n",
              "964633  2019   12  YPETRO DISTRIBUIDORA DE COMBUSTIVEIS S.A.       820101034   \n",
              "964634  2019   12  YPETRO DISTRIBUIDORA DE COMBUSTIVEIS S.A.       820101034   \n",
              "\n",
              "            Nome_Produto Regiao_Origem UF_Origem Regiao_Destinatario     QUANT  \n",
              "0       Etanol Hidratado            SE        SP                  NI  1.981765  \n",
              "1       Etanol Hidratado            SE        SP                  SE  0.024030  \n",
              "2       Etanol Hidratado            SE        SP                  SE  1.297300  \n",
              "3       Etanol Hidratado            SE        SP                  SE  0.061000  \n",
              "4       Etanol Hidratado            SE        SP                  SE  0.989174  \n",
              "...                  ...           ...       ...                 ...       ...  \n",
              "964630          Diesel B            NE        CE                  NE  0.398000  \n",
              "964631          Diesel B            NE        CE                  NE  0.606200  \n",
              "964632          Diesel B            NE        CE                  NE  0.041000  \n",
              "964633          Diesel B            NE        RN                  NE  0.115000  \n",
              "964634          Diesel B            NE        RN                  NE  0.275000  \n",
              "\n",
              "[964635 rows x 9 columns]>"
            ]
          },
          "metadata": {},
          "execution_count": 13
        }
      ]
    },
    {
      "cell_type": "code",
      "source": [
        ""
      ],
      "metadata": {
        "id": "ldbKEMqQqaSj"
      },
      "execution_count": 13,
      "outputs": []
    },
    {
      "cell_type": "markdown",
      "source": [
        "\n",
        "### **Vendas petroleo**"
      ],
      "metadata": {
        "id": "hPl1i19Go32X"
      }
    },
    {
      "cell_type": "code",
      "source": [
        "vendas_petroleo"
      ],
      "metadata": {
        "colab": {
          "base_uri": "https://localhost:8080/",
          "height": 0
        },
        "id": "8GD7jDXPo90N",
        "outputId": "bfdce48e-d81d-4a94-ed6b-9ab6bdb338e3"
      },
      "execution_count": 14,
      "outputs": [
        {
          "output_type": "execute_result",
          "data": {
            "text/plain": [
              "        ANO  MES    GRANDE_REGIAO                 UF           PRODUTO  \\\n",
              "0      1990  AGO  REGIÃO NORDESTE            ALAGOAS  ETANOL HIDRATADO   \n",
              "1      1990  MAR  REGIÃO NORDESTE            SERGIPE  ETANOL HIDRATADO   \n",
              "2      1990  JUL  REGIÃO NORDESTE            ALAGOAS  ETANOL HIDRATADO   \n",
              "3      1990  NOV  REGIÃO NORDESTE            ALAGOAS  ETANOL HIDRATADO   \n",
              "4      1990  SET  REGIÃO NORDESTE            ALAGOAS  ETANOL HIDRATADO   \n",
              "...     ...  ...              ...                ...               ...   \n",
              "83587  2022  MAR     REGIÃO NORTE            RORAIMA       ÓLEO DIESEL   \n",
              "83588  2022  FEV     REGIÃO NORTE            RORAIMA       ÓLEO DIESEL   \n",
              "83589  2022  FEV       REGIÃO SUL  RIO GRANDE DO SUL       ÓLEO DIESEL   \n",
              "83590  2022  FEV     REGIÃO NORTE               PARÁ       ÓLEO DIESEL   \n",
              "83591  2022  FEV  REGIÃO NORDESTE            ALAGOAS       ÓLEO DIESEL   \n",
              "\n",
              "        VENDAS_m3  \n",
              "0        8384.917  \n",
              "1        5169.931  \n",
              "2        8279.741  \n",
              "3        9796.884  \n",
              "4        9297.490  \n",
              "...           ...  \n",
              "83587   11610.800  \n",
              "83588   11244.000  \n",
              "83589  295647.107  \n",
              "83590  225319.422  \n",
              "83591   34991.527  \n",
              "\n",
              "[83592 rows x 6 columns]"
            ],
            "text/html": [
              "\n",
              "  <div id=\"df-45c81643-f49f-457a-8b26-9ec4c877c974\">\n",
              "    <div class=\"colab-df-container\">\n",
              "      <div>\n",
              "<style scoped>\n",
              "    .dataframe tbody tr th:only-of-type {\n",
              "        vertical-align: middle;\n",
              "    }\n",
              "\n",
              "    .dataframe tbody tr th {\n",
              "        vertical-align: top;\n",
              "    }\n",
              "\n",
              "    .dataframe thead th {\n",
              "        text-align: right;\n",
              "    }\n",
              "</style>\n",
              "<table border=\"1\" class=\"dataframe\">\n",
              "  <thead>\n",
              "    <tr style=\"text-align: right;\">\n",
              "      <th></th>\n",
              "      <th>ANO</th>\n",
              "      <th>MES</th>\n",
              "      <th>GRANDE_REGIAO</th>\n",
              "      <th>UF</th>\n",
              "      <th>PRODUTO</th>\n",
              "      <th>VENDAS_m3</th>\n",
              "    </tr>\n",
              "  </thead>\n",
              "  <tbody>\n",
              "    <tr>\n",
              "      <th>0</th>\n",
              "      <td>1990</td>\n",
              "      <td>AGO</td>\n",
              "      <td>REGIÃO NORDESTE</td>\n",
              "      <td>ALAGOAS</td>\n",
              "      <td>ETANOL HIDRATADO</td>\n",
              "      <td>8384.917</td>\n",
              "    </tr>\n",
              "    <tr>\n",
              "      <th>1</th>\n",
              "      <td>1990</td>\n",
              "      <td>MAR</td>\n",
              "      <td>REGIÃO NORDESTE</td>\n",
              "      <td>SERGIPE</td>\n",
              "      <td>ETANOL HIDRATADO</td>\n",
              "      <td>5169.931</td>\n",
              "    </tr>\n",
              "    <tr>\n",
              "      <th>2</th>\n",
              "      <td>1990</td>\n",
              "      <td>JUL</td>\n",
              "      <td>REGIÃO NORDESTE</td>\n",
              "      <td>ALAGOAS</td>\n",
              "      <td>ETANOL HIDRATADO</td>\n",
              "      <td>8279.741</td>\n",
              "    </tr>\n",
              "    <tr>\n",
              "      <th>3</th>\n",
              "      <td>1990</td>\n",
              "      <td>NOV</td>\n",
              "      <td>REGIÃO NORDESTE</td>\n",
              "      <td>ALAGOAS</td>\n",
              "      <td>ETANOL HIDRATADO</td>\n",
              "      <td>9796.884</td>\n",
              "    </tr>\n",
              "    <tr>\n",
              "      <th>4</th>\n",
              "      <td>1990</td>\n",
              "      <td>SET</td>\n",
              "      <td>REGIÃO NORDESTE</td>\n",
              "      <td>ALAGOAS</td>\n",
              "      <td>ETANOL HIDRATADO</td>\n",
              "      <td>9297.490</td>\n",
              "    </tr>\n",
              "    <tr>\n",
              "      <th>...</th>\n",
              "      <td>...</td>\n",
              "      <td>...</td>\n",
              "      <td>...</td>\n",
              "      <td>...</td>\n",
              "      <td>...</td>\n",
              "      <td>...</td>\n",
              "    </tr>\n",
              "    <tr>\n",
              "      <th>83587</th>\n",
              "      <td>2022</td>\n",
              "      <td>MAR</td>\n",
              "      <td>REGIÃO NORTE</td>\n",
              "      <td>RORAIMA</td>\n",
              "      <td>ÓLEO DIESEL</td>\n",
              "      <td>11610.800</td>\n",
              "    </tr>\n",
              "    <tr>\n",
              "      <th>83588</th>\n",
              "      <td>2022</td>\n",
              "      <td>FEV</td>\n",
              "      <td>REGIÃO NORTE</td>\n",
              "      <td>RORAIMA</td>\n",
              "      <td>ÓLEO DIESEL</td>\n",
              "      <td>11244.000</td>\n",
              "    </tr>\n",
              "    <tr>\n",
              "      <th>83589</th>\n",
              "      <td>2022</td>\n",
              "      <td>FEV</td>\n",
              "      <td>REGIÃO SUL</td>\n",
              "      <td>RIO GRANDE DO SUL</td>\n",
              "      <td>ÓLEO DIESEL</td>\n",
              "      <td>295647.107</td>\n",
              "    </tr>\n",
              "    <tr>\n",
              "      <th>83590</th>\n",
              "      <td>2022</td>\n",
              "      <td>FEV</td>\n",
              "      <td>REGIÃO NORTE</td>\n",
              "      <td>PARÁ</td>\n",
              "      <td>ÓLEO DIESEL</td>\n",
              "      <td>225319.422</td>\n",
              "    </tr>\n",
              "    <tr>\n",
              "      <th>83591</th>\n",
              "      <td>2022</td>\n",
              "      <td>FEV</td>\n",
              "      <td>REGIÃO NORDESTE</td>\n",
              "      <td>ALAGOAS</td>\n",
              "      <td>ÓLEO DIESEL</td>\n",
              "      <td>34991.527</td>\n",
              "    </tr>\n",
              "  </tbody>\n",
              "</table>\n",
              "<p>83592 rows × 6 columns</p>\n",
              "</div>\n",
              "      <button class=\"colab-df-convert\" onclick=\"convertToInteractive('df-45c81643-f49f-457a-8b26-9ec4c877c974')\"\n",
              "              title=\"Convert this dataframe to an interactive table.\"\n",
              "              style=\"display:none;\">\n",
              "        \n",
              "  <svg xmlns=\"http://www.w3.org/2000/svg\" height=\"24px\"viewBox=\"0 0 24 24\"\n",
              "       width=\"24px\">\n",
              "    <path d=\"M0 0h24v24H0V0z\" fill=\"none\"/>\n",
              "    <path d=\"M18.56 5.44l.94 2.06.94-2.06 2.06-.94-2.06-.94-.94-2.06-.94 2.06-2.06.94zm-11 1L8.5 8.5l.94-2.06 2.06-.94-2.06-.94L8.5 2.5l-.94 2.06-2.06.94zm10 10l.94 2.06.94-2.06 2.06-.94-2.06-.94-.94-2.06-.94 2.06-2.06.94z\"/><path d=\"M17.41 7.96l-1.37-1.37c-.4-.4-.92-.59-1.43-.59-.52 0-1.04.2-1.43.59L10.3 9.45l-7.72 7.72c-.78.78-.78 2.05 0 2.83L4 21.41c.39.39.9.59 1.41.59.51 0 1.02-.2 1.41-.59l7.78-7.78 2.81-2.81c.8-.78.8-2.07 0-2.86zM5.41 20L4 18.59l7.72-7.72 1.47 1.35L5.41 20z\"/>\n",
              "  </svg>\n",
              "      </button>\n",
              "      \n",
              "  <style>\n",
              "    .colab-df-container {\n",
              "      display:flex;\n",
              "      flex-wrap:wrap;\n",
              "      gap: 12px;\n",
              "    }\n",
              "\n",
              "    .colab-df-convert {\n",
              "      background-color: #E8F0FE;\n",
              "      border: none;\n",
              "      border-radius: 50%;\n",
              "      cursor: pointer;\n",
              "      display: none;\n",
              "      fill: #1967D2;\n",
              "      height: 32px;\n",
              "      padding: 0 0 0 0;\n",
              "      width: 32px;\n",
              "    }\n",
              "\n",
              "    .colab-df-convert:hover {\n",
              "      background-color: #E2EBFA;\n",
              "      box-shadow: 0px 1px 2px rgba(60, 64, 67, 0.3), 0px 1px 3px 1px rgba(60, 64, 67, 0.15);\n",
              "      fill: #174EA6;\n",
              "    }\n",
              "\n",
              "    [theme=dark] .colab-df-convert {\n",
              "      background-color: #3B4455;\n",
              "      fill: #D2E3FC;\n",
              "    }\n",
              "\n",
              "    [theme=dark] .colab-df-convert:hover {\n",
              "      background-color: #434B5C;\n",
              "      box-shadow: 0px 1px 3px 1px rgba(0, 0, 0, 0.15);\n",
              "      filter: drop-shadow(0px 1px 2px rgba(0, 0, 0, 0.3));\n",
              "      fill: #FFFFFF;\n",
              "    }\n",
              "  </style>\n",
              "\n",
              "      <script>\n",
              "        const buttonEl =\n",
              "          document.querySelector('#df-45c81643-f49f-457a-8b26-9ec4c877c974 button.colab-df-convert');\n",
              "        buttonEl.style.display =\n",
              "          google.colab.kernel.accessAllowed ? 'block' : 'none';\n",
              "\n",
              "        async function convertToInteractive(key) {\n",
              "          const element = document.querySelector('#df-45c81643-f49f-457a-8b26-9ec4c877c974');\n",
              "          const dataTable =\n",
              "            await google.colab.kernel.invokeFunction('convertToInteractive',\n",
              "                                                     [key], {});\n",
              "          if (!dataTable) return;\n",
              "\n",
              "          const docLinkHtml = 'Like what you see? Visit the ' +\n",
              "            '<a target=\"_blank\" href=https://colab.research.google.com/notebooks/data_table.ipynb>data table notebook</a>'\n",
              "            + ' to learn more about interactive tables.';\n",
              "          element.innerHTML = '';\n",
              "          dataTable['output_type'] = 'display_data';\n",
              "          await google.colab.output.renderOutput(dataTable, element);\n",
              "          const docLink = document.createElement('div');\n",
              "          docLink.innerHTML = docLinkHtml;\n",
              "          element.appendChild(docLink);\n",
              "        }\n",
              "      </script>\n",
              "    </div>\n",
              "  </div>\n",
              "  "
            ]
          },
          "metadata": {},
          "execution_count": 14
        }
      ]
    },
    {
      "cell_type": "code",
      "source": [
        "vendas_petroleo.info"
      ],
      "metadata": {
        "colab": {
          "base_uri": "https://localhost:8080/"
        },
        "id": "8CbLA_clo3aP",
        "outputId": "0959854e-4269-4b46-d212-3b14a833ca3d"
      },
      "execution_count": 15,
      "outputs": [
        {
          "output_type": "execute_result",
          "data": {
            "text/plain": [
              "<bound method DataFrame.info of         ANO  MES    GRANDE_REGIAO                 UF           PRODUTO  \\\n",
              "0      1990  AGO  REGIÃO NORDESTE            ALAGOAS  ETANOL HIDRATADO   \n",
              "1      1990  MAR  REGIÃO NORDESTE            SERGIPE  ETANOL HIDRATADO   \n",
              "2      1990  JUL  REGIÃO NORDESTE            ALAGOAS  ETANOL HIDRATADO   \n",
              "3      1990  NOV  REGIÃO NORDESTE            ALAGOAS  ETANOL HIDRATADO   \n",
              "4      1990  SET  REGIÃO NORDESTE            ALAGOAS  ETANOL HIDRATADO   \n",
              "...     ...  ...              ...                ...               ...   \n",
              "83587  2022  MAR     REGIÃO NORTE            RORAIMA       ÓLEO DIESEL   \n",
              "83588  2022  FEV     REGIÃO NORTE            RORAIMA       ÓLEO DIESEL   \n",
              "83589  2022  FEV       REGIÃO SUL  RIO GRANDE DO SUL       ÓLEO DIESEL   \n",
              "83590  2022  FEV     REGIÃO NORTE               PARÁ       ÓLEO DIESEL   \n",
              "83591  2022  FEV  REGIÃO NORDESTE            ALAGOAS       ÓLEO DIESEL   \n",
              "\n",
              "        VENDAS_m3  \n",
              "0        8384.917  \n",
              "1        5169.931  \n",
              "2        8279.741  \n",
              "3        9796.884  \n",
              "4        9297.490  \n",
              "...           ...  \n",
              "83587   11610.800  \n",
              "83588   11244.000  \n",
              "83589  295647.107  \n",
              "83590  225319.422  \n",
              "83591   34991.527  \n",
              "\n",
              "[83592 rows x 6 columns]>"
            ]
          },
          "metadata": {},
          "execution_count": 15
        }
      ]
    },
    {
      "cell_type": "markdown",
      "source": [
        "### Lista de variáveis de cada dataframe"
      ],
      "metadata": {
        "id": "mn_UeJ5ni9yP"
      }
    },
    {
      "cell_type": "code",
      "source": [
        "list(base_distribuicao)"
      ],
      "metadata": {
        "colab": {
          "base_uri": "https://localhost:8080/"
        },
        "id": "XoJKWjW2jYn9",
        "outputId": "72f6d0cc-ddb3-41c0-ceaf-40b5c136dcd3"
      },
      "execution_count": 16,
      "outputs": [
        {
          "output_type": "execute_result",
          "data": {
            "text/plain": [
              "['CNPJ',\n",
              " 'Razão Social',\n",
              " 'Número de Ordem',\n",
              " 'Tipo de Instalação',\n",
              " 'Cep',\n",
              " 'Endereço da Matriz',\n",
              " 'Número',\n",
              " 'Bairro',\n",
              " 'Complemento',\n",
              " 'Município',\n",
              " 'UF',\n",
              " 'Capacidade Total',\n",
              " 'Participacao (%)',\n",
              " 'Administrador?',\n",
              " 'Número Autorização',\n",
              " 'Data Publicação']"
            ]
          },
          "metadata": {},
          "execution_count": 16
        }
      ]
    },
    {
      "cell_type": "code",
      "source": [
        "list(entregas_distribuidor)"
      ],
      "metadata": {
        "colab": {
          "base_uri": "https://localhost:8080/"
        },
        "id": "hJE1Eonijdo6",
        "outputId": "c6e284d0-b0a5-4198-e7ac-c96a2942c9d4"
      },
      "execution_count": 17,
      "outputs": [
        {
          "output_type": "execute_result",
          "data": {
            "text/plain": [
              "['Ano',\n",
              " 'Mês',\n",
              " 'Distribuidor',\n",
              " 'Código do Produto',\n",
              " 'Nome do Produto',\n",
              " 'Região',\n",
              " 'Quantidade de Produto (mil m³)']"
            ]
          },
          "metadata": {},
          "execution_count": 17
        }
      ]
    },
    {
      "cell_type": "code",
      "source": [
        "list(entregas_fornecedor)"
      ],
      "metadata": {
        "colab": {
          "base_uri": "https://localhost:8080/"
        },
        "id": "vh_gwFWmjh-C",
        "outputId": "e9743373-e333-422f-df92-b3a6533d9c8b"
      },
      "execution_count": 18,
      "outputs": [
        {
          "output_type": "execute_result",
          "data": {
            "text/plain": [
              "['Ano',\n",
              " 'Mes',\n",
              " 'Agente_Regulador',\n",
              " 'Codigo_Produto',\n",
              " 'Nome_Produto',\n",
              " 'Regiao_Origem',\n",
              " 'UF_Origem',\n",
              " 'Regiao_Destinatario',\n",
              " 'QUANT']"
            ]
          },
          "metadata": {},
          "execution_count": 18
        }
      ]
    },
    {
      "cell_type": "code",
      "source": [
        "list(vendas_petroleo)"
      ],
      "metadata": {
        "colab": {
          "base_uri": "https://localhost:8080/"
        },
        "id": "loP9iiyojmHi",
        "outputId": "37c50e82-e281-426b-dd6e-212a1b131912"
      },
      "execution_count": 19,
      "outputs": [
        {
          "output_type": "execute_result",
          "data": {
            "text/plain": [
              "['ANO', 'MES', 'GRANDE_REGIAO', 'UF', 'PRODUTO', 'VENDAS_m3']"
            ]
          },
          "metadata": {},
          "execution_count": 19
        }
      ]
    },
    {
      "cell_type": "markdown",
      "source": [
        ""
      ],
      "metadata": {
        "id": "aUczK7PslcyD"
      }
    },
    {
      "cell_type": "markdown",
      "source": [
        ""
      ],
      "metadata": {
        "id": "mCMhUwSVljKC"
      }
    },
    {
      "cell_type": "markdown",
      "source": [
        "#Arquivo 1: Vendas petroleo\n"
      ],
      "metadata": {
        "id": "fhpNkzpmnq2Y"
      }
    },
    {
      "cell_type": "markdown",
      "source": [
        "## Etanol Hidratado"
      ],
      "metadata": {
        "id": "bIFCehaCr7Vs"
      }
    },
    {
      "cell_type": "markdown",
      "source": [
        "### Filtrando a variável 'PRODUTO' para 'ETANOL HIDRATADO'"
      ],
      "metadata": {
        "id": "cFd-n8ippcA3"
      }
    },
    {
      "cell_type": "code",
      "source": [
        "dados_etanolh = vendas_petroleo.loc[vendas_petroleo['PRODUTO'] == 'ETANOL HIDRATADO' ].reset_index(drop = False)\n",
        "dados_etanolh = dados_etanolh.loc[dados_etanolh['ANO'] > 2019]\n",
        "print(dados_etanolh)\n",
        "\n",
        "dados_etanolh1 = vendas_petroleo.loc[vendas_petroleo['PRODUTO'] == 'ETANOL HIDRATADO' ].reset_index(drop = False)\n",
        "dados_etanolh1 = dados_etanolh1.loc[dados_etanolh1['ANO'] == 2020]\n",
        "print(dados_etanolh1)\n",
        "\n",
        "dados_etanolh2 = vendas_petroleo.loc[vendas_petroleo['PRODUTO'] == 'ETANOL HIDRATADO' ].reset_index(drop = False)\n",
        "dados_etanolh2 = dados_etanolh2.loc[dados_etanolh2['ANO'] == 2021]\n",
        "print(dados_etanolh2)\n",
        "\n",
        "dados_etanolh3 = vendas_petroleo.loc[vendas_petroleo['PRODUTO'] == 'ETANOL HIDRATADO' ].reset_index(drop = False)\n",
        "dados_etanolh3 = dados_etanolh3.loc[dados_etanolh3['ANO'] == 2022]\n",
        "print(dados_etanolh3)"
      ],
      "metadata": {
        "id": "5CZ1jpCmn19Y",
        "colab": {
          "base_uri": "https://localhost:8080/"
        },
        "outputId": "7222276d-ad0d-418e-f660-6481c86fe721"
      },
      "execution_count": 20,
      "outputs": [
        {
          "output_type": "stream",
          "name": "stdout",
          "text": [
            "       index   ANO  MES        GRANDE_REGIAO                UF  \\\n",
            "9720   77760  2020  ABR         REGIÃO NORTE          AMAZONAS   \n",
            "9721   77761  2020  FEV  REGIÃO CENTRO-OESTE  DISTRITO FEDERAL   \n",
            "9722   77762  2020  DEZ  REGIÃO CENTRO-OESTE             GOIÁS   \n",
            "9723   77763  2020  JAN  REGIÃO CENTRO-OESTE  DISTRITO FEDERAL   \n",
            "9724   77764  2020  MAI  REGIÃO CENTRO-OESTE             GOIÁS   \n",
            "...      ...   ...  ...                  ...               ...   \n",
            "10444  83020  2022  MAR      REGIÃO NORDESTE             PIAUÍ   \n",
            "10445  83021  2022  JAN      REGIÃO NORDESTE             CEARÁ   \n",
            "10446  83022  2022  FEV      REGIÃO NORDESTE             PIAUÍ   \n",
            "10447  83023  2022  MAR      REGIÃO NORDESTE             CEARÁ   \n",
            "10448  83024  2022  FEV      REGIÃO NORDESTE             CEARÁ   \n",
            "\n",
            "                PRODUTO   VENDAS_m3  \n",
            "9720   ETANOL HIDRATADO    6705.000  \n",
            "9721   ETANOL HIDRATADO    9765.500  \n",
            "9722   ETANOL HIDRATADO  163024.456  \n",
            "9723   ETANOL HIDRATADO   11872.630  \n",
            "9724   ETANOL HIDRATADO  106821.804  \n",
            "...                 ...         ...  \n",
            "10444  ETANOL HIDRATADO   21113.709  \n",
            "10445  ETANOL HIDRATADO    9433.893  \n",
            "10446  ETANOL HIDRATADO    8492.700  \n",
            "10447  ETANOL HIDRATADO   12807.990  \n",
            "10448  ETANOL HIDRATADO    9500.120  \n",
            "\n",
            "[729 rows x 7 columns]\n",
            "       index   ANO  MES        GRANDE_REGIAO                UF  \\\n",
            "9720   77760  2020  ABR         REGIÃO NORTE          AMAZONAS   \n",
            "9721   77761  2020  FEV  REGIÃO CENTRO-OESTE  DISTRITO FEDERAL   \n",
            "9722   77762  2020  DEZ  REGIÃO CENTRO-OESTE             GOIÁS   \n",
            "9723   77763  2020  JAN  REGIÃO CENTRO-OESTE  DISTRITO FEDERAL   \n",
            "9724   77764  2020  MAI  REGIÃO CENTRO-OESTE             GOIÁS   \n",
            "...      ...   ...  ...                  ...               ...   \n",
            "10039  78079  2020  OUT      REGIÃO NORDESTE           PARAÍBA   \n",
            "10040  78080  2020  JUN      REGIÃO NORDESTE           PARAÍBA   \n",
            "10041  78081  2020  AGO      REGIÃO NORDESTE           PARAÍBA   \n",
            "10042  78082  2020  NOV      REGIÃO NORDESTE             PIAUÍ   \n",
            "10043  78083  2020  DEZ      REGIÃO NORDESTE             PIAUÍ   \n",
            "\n",
            "                PRODUTO   VENDAS_m3  \n",
            "9720   ETANOL HIDRATADO    6705.000  \n",
            "9721   ETANOL HIDRATADO    9765.500  \n",
            "9722   ETANOL HIDRATADO  163024.456  \n",
            "9723   ETANOL HIDRATADO   11872.630  \n",
            "9724   ETANOL HIDRATADO  106821.804  \n",
            "...                 ...         ...  \n",
            "10039  ETANOL HIDRATADO   14421.050  \n",
            "10040  ETANOL HIDRATADO    6535.750  \n",
            "10041  ETANOL HIDRATADO   11495.520  \n",
            "10042  ETANOL HIDRATADO    6400.900  \n",
            "10043  ETANOL HIDRATADO    7343.609  \n",
            "\n",
            "[324 rows x 7 columns]\n",
            "       index   ANO  MES    GRANDE_REGIAO                   UF  \\\n",
            "10044  80352  2021  FEV   REGIÃO SUDESTE            SÃO PAULO   \n",
            "10045  80353  2021  JAN   REGIÃO SUDESTE            SÃO PAULO   \n",
            "10046  80354  2021  MAR   REGIÃO SUDESTE            SÃO PAULO   \n",
            "10047  80355  2021  SET  REGIÃO NORDESTE              SERGIPE   \n",
            "10048  80356  2021  AGO  REGIÃO NORDESTE              SERGIPE   \n",
            "...      ...   ...  ...              ...                  ...   \n",
            "10363  80671  2021  MAI  REGIÃO NORDESTE  RIO GRANDE DO NORTE   \n",
            "10364  80672  2021  AGO  REGIÃO NORDESTE              PARAÍBA   \n",
            "10365  80673  2021  JUN  REGIÃO NORDESTE              PARAÍBA   \n",
            "10366  80674  2021  JUL  REGIÃO NORDESTE              PARAÍBA   \n",
            "10367  80675  2021  DEZ  REGIÃO NORDESTE                PIAUÍ   \n",
            "\n",
            "                PRODUTO   VENDAS_m3  \n",
            "10044  ETANOL HIDRATADO  827623.504  \n",
            "10045  ETANOL HIDRATADO  867825.909  \n",
            "10046  ETANOL HIDRATADO  780068.075  \n",
            "10047  ETANOL HIDRATADO    1594.912  \n",
            "10048  ETANOL HIDRATADO    1741.000  \n",
            "...                 ...         ...  \n",
            "10363  ETANOL HIDRATADO    6386.500  \n",
            "10364  ETANOL HIDRATADO    6039.970  \n",
            "10365  ETANOL HIDRATADO    6970.980  \n",
            "10366  ETANOL HIDRATADO    5831.950  \n",
            "10367  ETANOL HIDRATADO    7273.600  \n",
            "\n",
            "[324 rows x 7 columns]\n",
            "       index   ANO  MES        GRANDE_REGIAO                  UF  \\\n",
            "10368  82944  2022  JAN  REGIÃO CENTRO-OESTE         MATO GROSSO   \n",
            "10369  82945  2022  MAR  REGIÃO CENTRO-OESTE  MATO GROSSO DO SUL   \n",
            "10370  82946  2022  FEV  REGIÃO CENTRO-OESTE    DISTRITO FEDERAL   \n",
            "10371  82947  2022  JAN  REGIÃO CENTRO-OESTE    DISTRITO FEDERAL   \n",
            "10372  82948  2022  MAR  REGIÃO CENTRO-OESTE    DISTRITO FEDERAL   \n",
            "...      ...   ...  ...                  ...                 ...   \n",
            "10444  83020  2022  MAR      REGIÃO NORDESTE               PIAUÍ   \n",
            "10445  83021  2022  JAN      REGIÃO NORDESTE               CEARÁ   \n",
            "10446  83022  2022  FEV      REGIÃO NORDESTE               PIAUÍ   \n",
            "10447  83023  2022  MAR      REGIÃO NORDESTE               CEARÁ   \n",
            "10448  83024  2022  FEV      REGIÃO NORDESTE               CEARÁ   \n",
            "\n",
            "                PRODUTO  VENDAS_m3  \n",
            "10368  ETANOL HIDRATADO  53395.243  \n",
            "10369  ETANOL HIDRATADO  16101.566  \n",
            "10370  ETANOL HIDRATADO   5087.000  \n",
            "10371  ETANOL HIDRATADO   3985.000  \n",
            "10372  ETANOL HIDRATADO   9134.500  \n",
            "...                 ...        ...  \n",
            "10444  ETANOL HIDRATADO  21113.709  \n",
            "10445  ETANOL HIDRATADO   9433.893  \n",
            "10446  ETANOL HIDRATADO   8492.700  \n",
            "10447  ETANOL HIDRATADO  12807.990  \n",
            "10448  ETANOL HIDRATADO   9500.120  \n",
            "\n",
            "[81 rows x 7 columns]\n"
          ]
        }
      ]
    },
    {
      "cell_type": "code",
      "source": [
        "  "
      ],
      "metadata": {
        "id": "Usplqqb7eu-Q"
      },
      "execution_count": 20,
      "outputs": []
    },
    {
      "cell_type": "markdown",
      "source": [
        "Na primeira linha foi filtrado o produto por 'Etanol Hidratado'.\n",
        "Na segunda linha foi filtrado o ano para maior que 2019 dentro do dataframe criado anteriormente.\n",
        "\n",
        "Filtro no pandas: https://pandas.pydata.org/docs/reference/api/pandas.DataFrame.loc.html"
      ],
      "metadata": {
        "id": "FNhVsOS2Memx"
      }
    },
    {
      "cell_type": "markdown",
      "source": [
        "### Agrupando a variável"
      ],
      "metadata": {
        "id": "r1p94U6ioZ6o"
      }
    },
    {
      "cell_type": "code",
      "source": [
        "agrup_quant = dados_etanolh.drop(columns=['MES'])\n",
        "agrup_quant = agrup_quant.groupby([\"ANO\", 'GRANDE_REGIAO']).agg({'VENDAS_m3': 'sum'})\n",
        "print(agrup_quant)\n",
        "\n",
        "agrup_quant1 = dados_etanolh1.drop(columns=['MES'])\n",
        "agrup_quant1 = agrup_quant1.groupby([\"ANO\", 'GRANDE_REGIAO']).agg({'VENDAS_m3': 'sum'})\n",
        "print(agrup_quant1)\n",
        "\n",
        "agrup_quant2 = dados_etanolh2.drop(columns=['MES'])\n",
        "agrup_quant2 = agrup_quant2.groupby([\"ANO\", 'GRANDE_REGIAO']).agg({'VENDAS_m3': 'sum'})\n",
        "print(agrup_quant2)\n",
        "\n",
        "agrup_quant3 = dados_etanolh3.drop(columns=['MES'])\n",
        "agrup_quant3 = agrup_quant3.groupby([\"ANO\", 'GRANDE_REGIAO']).agg({'VENDAS_m3': 'sum'})\n",
        "print(agrup_quant3)"
      ],
      "metadata": {
        "colab": {
          "base_uri": "https://localhost:8080/"
        },
        "id": "EL8Vz5SCoY4V",
        "outputId": "deba655a-8fbc-48c6-dad5-d5e273594d8a"
      },
      "execution_count": 21,
      "outputs": [
        {
          "output_type": "stream",
          "name": "stdout",
          "text": [
            "                             VENDAS_m3\n",
            "ANO  GRANDE_REGIAO                    \n",
            "2020 REGIÃO CENTRO-OESTE  2.768858e+06\n",
            "     REGIÃO NORDESTE      1.341625e+06\n",
            "     REGIÃO NORTE         2.159332e+05\n",
            "     REGIÃO SUDESTE       1.348969e+07\n",
            "     REGIÃO SUL           1.441826e+06\n",
            "2021 REGIÃO CENTRO-OESTE  2.615294e+06\n",
            "     REGIÃO NORDESTE      1.319740e+06\n",
            "     REGIÃO NORTE         2.298303e+05\n",
            "     REGIÃO SUDESTE       1.151653e+07\n",
            "     REGIÃO SUL           1.110313e+06\n",
            "2022 REGIÃO CENTRO-OESTE  5.648726e+05\n",
            "     REGIÃO NORDESTE      3.768014e+05\n",
            "     REGIÃO NORTE         5.083794e+04\n",
            "     REGIÃO SUDESTE       2.434614e+06\n",
            "     REGIÃO SUL           2.350518e+05\n",
            "                             VENDAS_m3\n",
            "ANO  GRANDE_REGIAO                    \n",
            "2020 REGIÃO CENTRO-OESTE  2.768858e+06\n",
            "     REGIÃO NORDESTE      1.341625e+06\n",
            "     REGIÃO NORTE         2.159332e+05\n",
            "     REGIÃO SUDESTE       1.348969e+07\n",
            "     REGIÃO SUL           1.441826e+06\n",
            "                             VENDAS_m3\n",
            "ANO  GRANDE_REGIAO                    \n",
            "2021 REGIÃO CENTRO-OESTE  2.615294e+06\n",
            "     REGIÃO NORDESTE      1.319740e+06\n",
            "     REGIÃO NORTE         2.298303e+05\n",
            "     REGIÃO SUDESTE       1.151653e+07\n",
            "     REGIÃO SUL           1.110313e+06\n",
            "                            VENDAS_m3\n",
            "ANO  GRANDE_REGIAO                   \n",
            "2022 REGIÃO CENTRO-OESTE   564872.614\n",
            "     REGIÃO NORDESTE       376801.404\n",
            "     REGIÃO NORTE           50837.941\n",
            "     REGIÃO SUDESTE       2434613.664\n",
            "     REGIÃO SUL            235051.775\n"
          ]
        }
      ]
    },
    {
      "cell_type": "markdown",
      "source": [
        "No comando acima, cada dataframe foi agrupada, agregado o VENDAS_m3 e somada a parte agrupada ao valor. Há quatro dataframes para um ser com os três anos e os outros serem de cada ano."
      ],
      "metadata": {
        "id": "DIv-ACwT7B5U"
      }
    },
    {
      "cell_type": "markdown",
      "source": [
        "### Gráficos"
      ],
      "metadata": {
        "id": "HQr_Xa9W64Ss"
      }
    },
    {
      "cell_type": "markdown",
      "source": [
        "**Gráficos de barras pelo matplotlib**"
      ],
      "metadata": {
        "id": "kag8IzIF6vr9"
      }
    },
    {
      "cell_type": "markdown",
      "source": [
        "etanol - 2020 a 2022"
      ],
      "metadata": {
        "id": "Kztl-2VIG96y"
      }
    },
    {
      "cell_type": "code",
      "source": [
        "agrup_quant.plot.bar(stacked= False)\n",
        "plt.show()"
      ],
      "metadata": {
        "colab": {
          "base_uri": "https://localhost:8080/",
          "height": 0
        },
        "id": "LjEc5ERxHBLI",
        "outputId": "1e41ba0c-7db9-4184-8754-88d00cbf349c"
      },
      "execution_count": 22,
      "outputs": [
        {
          "output_type": "display_data",
          "data": {
            "text/plain": [
              "<Figure size 432x288 with 1 Axes>"
            ],
            "image/png": "[encoded data removed]"
          },
          "metadata": {
            "needs_background": "light"
          }
        }
      ]
    },
    {
      "cell_type": "markdown",
      "source": [
        "etanol - 2020 "
      ],
      "metadata": {
        "id": "wOoK02OLHDzw"
      }
    },
    {
      "cell_type": "code",
      "source": [
        "agrup_quant1.plot.bar(stacked= False)\n",
        "plt.show()\n"
      ],
      "metadata": {
        "colab": {
          "base_uri": "https://localhost:8080/",
          "height": 0
        },
        "id": "VlxKNdQZHGDg",
        "outputId": "5d505b9e-1186-444b-de45-43be4cfac3fa"
      },
      "execution_count": 23,
      "outputs": [
        {
          "output_type": "display_data",
          "data": {
            "text/plain": [
              "<Figure size 432x288 with 1 Axes>"
            ],
            "image/png": "[encoded data removed]"
          },
          "metadata": {
            "needs_background": "light"
          }
        }
      ]
    },
    {
      "cell_type": "markdown",
      "source": [
        "etanol - 2021"
      ],
      "metadata": {
        "id": "VeJmQnf2HIX4"
      }
    },
    {
      "cell_type": "code",
      "source": [
        "agrup_quant2.plot.bar(stacked= False)\n",
        "plt.show()"
      ],
      "metadata": {
        "colab": {
          "base_uri": "https://localhost:8080/",
          "height": 0
        },
        "id": "W50H5TMWHKJZ",
        "outputId": "b3b1c56d-2915-432c-cecc-c06be9bcb653"
      },
      "execution_count": 24,
      "outputs": [
        {
          "output_type": "display_data",
          "data": {
            "text/plain": [
              "<Figure size 432x288 with 1 Axes>"
            ],
            "image/png": "[encoded data removed]"
          },
          "metadata": {
            "needs_background": "light"
          }
        }
      ]
    },
    {
      "cell_type": "markdown",
      "source": [
        "etanol - 2022"
      ],
      "metadata": {
        "id": "Z0_D0G0VHMoB"
      }
    },
    {
      "cell_type": "code",
      "source": [
        "agrup_quant3.plot.bar(stacked= False)\n",
        "plt.show() "
      ],
      "metadata": {
        "colab": {
          "base_uri": "https://localhost:8080/",
          "height": 0
        },
        "id": "NIe1fyiFHP6X",
        "outputId": "b94451df-7d10-42fb-98d2-ad98d38b9d21"
      },
      "execution_count": 25,
      "outputs": [
        {
          "output_type": "display_data",
          "data": {
            "text/plain": [
              "<Figure size 432x288 with 1 Axes>"
            ],
            "image/png": "[encoded data removed]"
          },
          "metadata": {
            "needs_background": "light"
          }
        }
      ]
    },
    {
      "cell_type": "markdown",
      "source": [
        "Por algum motivo, está saindo um plano cartesiano em branco, antecedendo cada gráfico, toda vez que é utilizado o comando \"plt.title()\".\n",
        "Posição do nordeste no ranking em cada ano:\n",
        "2020 - 4° lugar; 2021 - 3° lugar; 2022 - 3° lugar.\n"
      ],
      "metadata": {
        "id": "LE7xj9wO7riW"
      }
    },
    {
      "cell_type": "markdown",
      "source": [
        "**Gráfico de barras no seanborn**\n"
      ],
      "metadata": {
        "id": "1bdRxd14sWYC"
      }
    },
    {
      "cell_type": "code",
      "source": [
        "plt.title('Gráfico de vendas de etanol dos anos de 2020 a 2021, com o eixo x = as regióes')\n",
        "sns.barplot(data = dados_etanolh, x = 'GRANDE_REGIAO', y ='VENDAS_m3',  hue = 'ANO', palette= 'twilight' )\n",
        "plt.show()\n",
        "plt.title('Gráfico de venda de etanol dos anos de 2020 a 2021 com o eixo x = os anos')\n",
        "sns.barplot(data = dados_etanolh, x = 'ANO' , y ='VENDAS_m3', hue = 'GRANDE_REGIAO', palette = 'twilight' )\n",
        "plt.show()"
      ],
      "metadata": {
        "colab": {
          "base_uri": "https://localhost:8080/",
          "height": 0
        },
        "id": "-Aqii9TSsbzb",
        "outputId": "44b305aa-ed3a-4db6-a4e3-4879bd6d5947"
      },
      "execution_count": 26,
      "outputs": [
        {
          "output_type": "display_data",
          "data": {
            "text/plain": [
              "<Figure size 432x288 with 1 Axes>"
            ],
            "image/png": "[encoded data removed]"
          },
          "metadata": {
            "needs_background": "light"
          }
        },
        {
          "output_type": "display_data",
          "data": {
            "text/plain": [
              "<Figure size 432x288 with 1 Axes>"
            ],
            "image/png": "[encoded data removed]"
          },
          "metadata": {
            "needs_background": "light"
          }
        }
      ]
    },
    {
      "cell_type": "markdown",
      "source": [
        "Dois gráficos de barras foram feitos para melhor visualização do ranking de UFs. O *primeiro gráfico* está extremamente bagunçado no eixo x, então não dá para ver os valores da variável de grandes regiões. No *segundo gráfico*, está mais organizado e dá para ver que a região nordeste está em quinto lugar em vendas por metro cubido de etanol hidratado dos anos de 2020 a 2022.\n",
        "Nestes gráficos, não há a soma dos totais dos meses de cada região para ser colocado como o total do ano, deve ser por isso que o ranking da região nordeste está diferente neste gráfico do que nos outros."
      ],
      "metadata": {
        "id": "5AFUeehDMx7R"
      }
    },
    {
      "cell_type": "markdown",
      "source": [
        "## Óleo Diesel"
      ],
      "metadata": {
        "id": "mV-58D2VP2-8"
      }
    },
    {
      "cell_type": "markdown",
      "source": [
        "### Filtrando varíavel para óleo diesel"
      ],
      "metadata": {
        "id": "VvRXDT16_5M4"
      }
    },
    {
      "cell_type": "code",
      "source": [
        "dados_diesel = vendas_petroleo.loc[vendas_petroleo['PRODUTO'] == 'ÓLEO DIESEL' ].reset_index(drop = False)\n",
        "dados_diesel = dados_diesel.loc[dados_diesel['ANO'] > 2019]\n",
        "print(dados_diesel)\n",
        "\n",
        "dados_diesel1 = vendas_petroleo.loc[vendas_petroleo['PRODUTO'] == 'ÓLEO DIESEL' ].reset_index(drop = False)\n",
        "dados_diesel1 = dados_diesel1.loc[dados_diesel1['ANO'] == 2020]\n",
        "print(dados_diesel1)\n",
        "\n",
        "dados_diesel2 = vendas_petroleo.loc[vendas_petroleo['PRODUTO'] == 'ÓLEO DIESEL' ].reset_index(drop = False)\n",
        "dados_diesel2 = dados_diesel2.loc[dados_diesel2['ANO'] == 2021]\n",
        "print(dados_diesel2)\n",
        "\n",
        "dados_diesel3 = vendas_petroleo.loc[vendas_petroleo['PRODUTO'] == 'ÓLEO DIESEL' ].reset_index(drop = False)\n",
        "dados_diesel3 = dados_diesel3.loc[dados_diesel3['ANO'] == 2022]\n",
        "print(dados_etanolh3)"
      ],
      "metadata": {
        "id": "TbJRiYayR3o4",
        "colab": {
          "base_uri": "https://localhost:8080/"
        },
        "outputId": "7a98ead7-271e-4003-d631-d3deb4cba4f0"
      },
      "execution_count": 27,
      "outputs": [
        {
          "output_type": "stream",
          "name": "stdout",
          "text": [
            "       index   ANO  MES    GRANDE_REGIAO                 UF      PRODUTO  \\\n",
            "9720   80028  2020  AGO     REGIÃO NORTE               ACRE  ÓLEO DIESEL   \n",
            "9721   80029  2020  JUL     REGIÃO NORTE               ACRE  ÓLEO DIESEL   \n",
            "9722   80030  2020  ABR     REGIÃO NORTE               ACRE  ÓLEO DIESEL   \n",
            "9723   80031  2020  JUN     REGIÃO NORTE               ACRE  ÓLEO DIESEL   \n",
            "9724   80032  2020  JAN     REGIÃO NORTE               ACRE  ÓLEO DIESEL   \n",
            "...      ...   ...  ...              ...                ...          ...   \n",
            "10444  83587  2022  MAR     REGIÃO NORTE            RORAIMA  ÓLEO DIESEL   \n",
            "10445  83588  2022  FEV     REGIÃO NORTE            RORAIMA  ÓLEO DIESEL   \n",
            "10446  83589  2022  FEV       REGIÃO SUL  RIO GRANDE DO SUL  ÓLEO DIESEL   \n",
            "10447  83590  2022  FEV     REGIÃO NORTE               PARÁ  ÓLEO DIESEL   \n",
            "10448  83591  2022  FEV  REGIÃO NORDESTE            ALAGOAS  ÓLEO DIESEL   \n",
            "\n",
            "        VENDAS_m3  \n",
            "9720    14726.000  \n",
            "9721    14428.000  \n",
            "9722    11846.900  \n",
            "9723    12307.800  \n",
            "9724    12382.100  \n",
            "...           ...  \n",
            "10444   11610.800  \n",
            "10445   11244.000  \n",
            "10446  295647.107  \n",
            "10447  225319.422  \n",
            "10448   34991.527  \n",
            "\n",
            "[729 rows x 7 columns]\n",
            "       index   ANO  MES    GRANDE_REGIAO        UF      PRODUTO   VENDAS_m3\n",
            "9720   80028  2020  AGO     REGIÃO NORTE      ACRE  ÓLEO DIESEL   14726.000\n",
            "9721   80029  2020  JUL     REGIÃO NORTE      ACRE  ÓLEO DIESEL   14428.000\n",
            "9722   80030  2020  ABR     REGIÃO NORTE      ACRE  ÓLEO DIESEL   11846.900\n",
            "9723   80031  2020  JUN     REGIÃO NORTE      ACRE  ÓLEO DIESEL   12307.800\n",
            "9724   80032  2020  JAN     REGIÃO NORTE      ACRE  ÓLEO DIESEL   12382.100\n",
            "...      ...   ...  ...              ...       ...          ...         ...\n",
            "10039  80347  2020  FEV  REGIÃO NORDESTE     PIAUÍ  ÓLEO DIESEL   37745.340\n",
            "10040  80348  2020  SET  REGIÃO NORDESTE  MARANHÃO  ÓLEO DIESEL  140322.482\n",
            "10041  80349  2020  AGO  REGIÃO NORDESTE  MARANHÃO  ÓLEO DIESEL  136336.548\n",
            "10042  80350  2020  MAI  REGIÃO NORDESTE     PIAUÍ  ÓLEO DIESEL   40623.990\n",
            "10043  80351  2020  ABR  REGIÃO NORDESTE     PIAUÍ  ÓLEO DIESEL   35459.500\n",
            "\n",
            "[324 rows x 7 columns]\n",
            "       index   ANO  MES   GRANDE_REGIAO         UF      PRODUTO    VENDAS_m3\n",
            "10044  82620  2021  MAR    REGIÃO NORTE   RONDÔNIA  ÓLEO DIESEL    80456.294\n",
            "10045  82621  2021  JAN    REGIÃO NORTE   RONDÔNIA  ÓLEO DIESEL    60886.947\n",
            "10046  82622  2021  ABR    REGIÃO NORTE   RONDÔNIA  ÓLEO DIESEL    77499.339\n",
            "10047  82623  2021  MAI    REGIÃO NORTE   RONDÔNIA  ÓLEO DIESEL    78498.275\n",
            "10048  82624  2021  OUT    REGIÃO NORTE   RONDÔNIA  ÓLEO DIESEL   113757.610\n",
            "...      ...   ...  ...             ...        ...          ...          ...\n",
            "10363  82939  2021  OUT  REGIÃO SUDESTE  SÃO PAULO  ÓLEO DIESEL  1100416.928\n",
            "10364  82940  2021  MAR      REGIÃO SUL     PARANÁ  ÓLEO DIESEL   617722.648\n",
            "10365  82941  2021  JAN      REGIÃO SUL     PARANÁ  ÓLEO DIESEL   434427.605\n",
            "10366  82942  2021  JUL  REGIÃO SUDESTE  SÃO PAULO  ÓLEO DIESEL  1155835.086\n",
            "10367  82943  2021  FEV      REGIÃO SUL     PARANÁ  ÓLEO DIESEL   482520.667\n",
            "\n",
            "[324 rows x 7 columns]\n",
            "       index   ANO  MES        GRANDE_REGIAO                  UF  \\\n",
            "10368  82944  2022  JAN  REGIÃO CENTRO-OESTE         MATO GROSSO   \n",
            "10369  82945  2022  MAR  REGIÃO CENTRO-OESTE  MATO GROSSO DO SUL   \n",
            "10370  82946  2022  FEV  REGIÃO CENTRO-OESTE    DISTRITO FEDERAL   \n",
            "10371  82947  2022  JAN  REGIÃO CENTRO-OESTE    DISTRITO FEDERAL   \n",
            "10372  82948  2022  MAR  REGIÃO CENTRO-OESTE    DISTRITO FEDERAL   \n",
            "...      ...   ...  ...                  ...                 ...   \n",
            "10444  83020  2022  MAR      REGIÃO NORDESTE               PIAUÍ   \n",
            "10445  83021  2022  JAN      REGIÃO NORDESTE               CEARÁ   \n",
            "10446  83022  2022  FEV      REGIÃO NORDESTE               PIAUÍ   \n",
            "10447  83023  2022  MAR      REGIÃO NORDESTE               CEARÁ   \n",
            "10448  83024  2022  FEV      REGIÃO NORDESTE               CEARÁ   \n",
            "\n",
            "                PRODUTO  VENDAS_m3  \n",
            "10368  ETANOL HIDRATADO  53395.243  \n",
            "10369  ETANOL HIDRATADO  16101.566  \n",
            "10370  ETANOL HIDRATADO   5087.000  \n",
            "10371  ETANOL HIDRATADO   3985.000  \n",
            "10372  ETANOL HIDRATADO   9134.500  \n",
            "...                 ...        ...  \n",
            "10444  ETANOL HIDRATADO  21113.709  \n",
            "10445  ETANOL HIDRATADO   9433.893  \n",
            "10446  ETANOL HIDRATADO   8492.700  \n",
            "10447  ETANOL HIDRATADO  12807.990  \n",
            "10448  ETANOL HIDRATADO   9500.120  \n",
            "\n",
            "[81 rows x 7 columns]\n"
          ]
        }
      ]
    },
    {
      "cell_type": "markdown",
      "source": [
        "Este aqui é exatamente o mesmo comando da parte de filtrar no etanol hidratado, mas agora com a variável: produto = óleo diesel"
      ],
      "metadata": {
        "id": "ytka-TDhAtit"
      }
    },
    {
      "cell_type": "markdown",
      "source": [
        "### Agrupando variáveis\n"
      ],
      "metadata": {
        "id": "VmjskO6IBao7"
      }
    },
    {
      "cell_type": "code",
      "source": [
        "agrup_quant4 = dados_diesel.drop(columns=['MES'])\n",
        "agrup_quant4 = agrup_quant4.groupby([\"ANO\", 'GRANDE_REGIAO']).agg({'VENDAS_m3': 'sum'})\n",
        "print(agrup_quant4)\n",
        "\n",
        "agrup_quant5 = dados_diesel1.drop(columns=['MES'])\n",
        "agrup_quant5 = agrup_quant5.groupby([\"ANO\", 'GRANDE_REGIAO']).agg({'VENDAS_m3': 'sum'})\n",
        "print(agrup_quant5)\n",
        "\n",
        "agrup_quant6 = dados_diesel2.drop(columns=['MES'])\n",
        "agrup_quant6 = agrup_quant6.groupby([\"ANO\", 'GRANDE_REGIAO']).agg({'VENDAS_m3': 'sum'})\n",
        "print(agrup_quant6)\n",
        "\n",
        "agrup_quant7 = dados_diesel3.drop(columns=['MES'])\n",
        "agrup_quant7 = agrup_quant7.groupby([\"ANO\", 'GRANDE_REGIAO']).agg({'VENDAS_m3': 'sum'})\n",
        "print(agrup_quant7)"
      ],
      "metadata": {
        "colab": {
          "base_uri": "https://localhost:8080/"
        },
        "id": "EwfE8FBvBjaj",
        "outputId": "2a09793d-0c6f-4030-d63d-08b8d3def02e"
      },
      "execution_count": 28,
      "outputs": [
        {
          "output_type": "stream",
          "name": "stdout",
          "text": [
            "                             VENDAS_m3\n",
            "ANO  GRANDE_REGIAO                    \n",
            "2020 REGIÃO CENTRO-OESTE  8.029962e+06\n",
            "     REGIÃO NORDESTE      8.962007e+06\n",
            "     REGIÃO NORTE         6.164357e+06\n",
            "     REGIÃO SUDESTE       2.229036e+07\n",
            "     REGIÃO SUL           1.202537e+07\n",
            "2021 REGIÃO CENTRO-OESTE  8.891915e+06\n",
            "     REGIÃO NORDESTE      9.834542e+06\n",
            "     REGIÃO NORTE         6.686328e+06\n",
            "     REGIÃO SUDESTE       2.363127e+07\n",
            "     REGIÃO SUL           1.306751e+07\n",
            "2022 REGIÃO CENTRO-OESTE  2.295057e+06\n",
            "     REGIÃO NORDESTE      2.278680e+06\n",
            "     REGIÃO NORTE         1.476827e+06\n",
            "     REGIÃO SUDESTE       5.546693e+06\n",
            "     REGIÃO SUL           3.184874e+06\n",
            "                             VENDAS_m3\n",
            "ANO  GRANDE_REGIAO                    \n",
            "2020 REGIÃO CENTRO-OESTE  8.029962e+06\n",
            "     REGIÃO NORDESTE      8.962007e+06\n",
            "     REGIÃO NORTE         6.164357e+06\n",
            "     REGIÃO SUDESTE       2.229036e+07\n",
            "     REGIÃO SUL           1.202537e+07\n",
            "                             VENDAS_m3\n",
            "ANO  GRANDE_REGIAO                    \n",
            "2021 REGIÃO CENTRO-OESTE  8.891915e+06\n",
            "     REGIÃO NORDESTE      9.834542e+06\n",
            "     REGIÃO NORTE         6.686328e+06\n",
            "     REGIÃO SUDESTE       2.363127e+07\n",
            "     REGIÃO SUL           1.306751e+07\n",
            "                            VENDAS_m3\n",
            "ANO  GRANDE_REGIAO                   \n",
            "2022 REGIÃO CENTRO-OESTE  2295057.043\n",
            "     REGIÃO NORDESTE      2278679.747\n",
            "     REGIÃO NORTE         1476826.895\n",
            "     REGIÃO SUDESTE       5546693.339\n",
            "     REGIÃO SUL           3184873.957\n"
          ]
        }
      ]
    },
    {
      "cell_type": "markdown",
      "source": [
        "Os dataframes \"agrup_quant\", cada um deles recebe um valor.\n",
        "O agrup_quant4 é para todos os anos acima de 2019; O agrup_quant5 para 2020; O agrup_quant6 para 2021; e o agrup_quant7 para 2022"
      ],
      "metadata": {
        "id": "qaceCYteCOyN"
      }
    },
    {
      "cell_type": "markdown",
      "source": [
        "###Montando gráficos"
      ],
      "metadata": {
        "id": "noIJeRelSNSq"
      }
    },
    {
      "cell_type": "markdown",
      "source": [
        "**Gráficos em matplotlib.pyplot** "
      ],
      "metadata": {
        "id": "EULxB4W-C0-P"
      }
    },
    {
      "cell_type": "markdown",
      "source": [
        "Óleo Diesel - 2020 a 2022"
      ],
      "metadata": {
        "id": "XF9lXChjLHws"
      }
    },
    {
      "cell_type": "code",
      "source": [
        "agrup_quant4.plot.bar(stacked= True)\n",
        "plt.show()"
      ],
      "metadata": {
        "colab": {
          "base_uri": "https://localhost:8080/",
          "height": 0
        },
        "id": "FREqsvx2LP-k",
        "outputId": "8b5abc53-6f0b-426d-cd90-def8fccc78cb"
      },
      "execution_count": 29,
      "outputs": [
        {
          "output_type": "display_data",
          "data": {
            "text/plain": [
              "<Figure size 432x288 with 1 Axes>"
            ],
            "image/png": "[encoded data removed]"
          },
          "metadata": {
            "needs_background": "light"
          }
        }
      ]
    },
    {
      "cell_type": "markdown",
      "source": [
        "Óleo Diesel - 2020"
      ],
      "metadata": {
        "id": "7NdqPxohLTjV"
      }
    },
    {
      "cell_type": "code",
      "source": [
        "agrup_quant5.plot.bar(stacked= True)\n",
        "plt.show()"
      ],
      "metadata": {
        "colab": {
          "base_uri": "https://localhost:8080/",
          "height": 0
        },
        "id": "TLHUD2KULXxQ",
        "outputId": "c8bea6b1-0b4c-41c1-8924-ff36cfb0e323"
      },
      "execution_count": 30,
      "outputs": [
        {
          "output_type": "display_data",
          "data": {
            "text/plain": [
              "<Figure size 432x288 with 1 Axes>"
            ],
            "image/png": "[encoded data removed]"
          },
          "metadata": {
            "needs_background": "light"
          }
        }
      ]
    },
    {
      "cell_type": "markdown",
      "source": [
        "Óleo Diesel - 2021"
      ],
      "metadata": {
        "id": "toL53MZDLbsQ"
      }
    },
    {
      "cell_type": "code",
      "source": [
        "agrup_quant6.plot.bar(stacked= True)\n",
        "plt.show()"
      ],
      "metadata": {
        "colab": {
          "base_uri": "https://localhost:8080/",
          "height": 0
        },
        "id": "4AX02EZ-LhEo",
        "outputId": "9ac5d44a-185c-4ec9-d912-94093d551ee5"
      },
      "execution_count": 31,
      "outputs": [
        {
          "output_type": "display_data",
          "data": {
            "text/plain": [
              "<Figure size 432x288 with 1 Axes>"
            ],
            "image/png": "[encoded data removed]"
          },
          "metadata": {
            "needs_background": "light"
          }
        }
      ]
    },
    {
      "cell_type": "markdown",
      "source": [
        "Óleo Diesel - 2022"
      ],
      "metadata": {
        "id": "q3AlH_KdLjce"
      }
    },
    {
      "cell_type": "code",
      "source": [
        "agrup_quant7.plot.bar(stacked= True)\n",
        "plt.show() "
      ],
      "metadata": {
        "colab": {
          "base_uri": "https://localhost:8080/",
          "height": 0
        },
        "id": "DKMq_aY_LoIu",
        "outputId": "2f5bc754-3d79-496f-eedd-ac318c45ac17"
      },
      "execution_count": 32,
      "outputs": [
        {
          "output_type": "display_data",
          "data": {
            "text/plain": [
              "<Figure size 432x288 with 1 Axes>"
            ],
            "image/png": "[encoded data removed]"
          },
          "metadata": {
            "needs_background": "light"
          }
        }
      ]
    },
    {
      "cell_type": "markdown",
      "source": [
        "Por algum motivo, está saindo um plano cartesiano em branco, antecedendo cada gráfico quando adicionado o comando 'plt.title()'.\n",
        "O nordeste permanece em terceiro lugar nos três anos selecionados."
      ],
      "metadata": {
        "id": "q4u9MwxsDZN9"
      }
    },
    {
      "cell_type": "markdown",
      "source": [
        "**Gráfico em seanborn**"
      ],
      "metadata": {
        "id": "XbSQT0VVEFBi"
      }
    },
    {
      "cell_type": "code",
      "source": [
        "sns.barplot(data = dados_diesel, x = 'ANO' , y ='VENDAS_m3', hue = 'GRANDE_REGIAO', palette = 'twilight' )\n",
        "plt.show()"
      ],
      "metadata": {
        "colab": {
          "base_uri": "https://localhost:8080/",
          "height": 0
        },
        "id": "XB2dLIzlSTQA",
        "outputId": "e4d642d2-fcd1-472f-8f47-cad695e219c8"
      },
      "execution_count": 33,
      "outputs": [
        {
          "output_type": "display_data",
          "data": {
            "text/plain": [
              "<Figure size 432x288 with 1 Axes>"
            ],
            "image/png": "[encoded data removed]"
          },
          "metadata": {
            "needs_background": "light"
          }
        }
      ]
    },
    {
      "cell_type": "markdown",
      "source": [
        "Este gráfico há o mesmo problema que o anterior de Etanol comum. Neste o nordeste permanece em 4° lugar em todos os anos."
      ],
      "metadata": {
        "id": "3_3lSWhAD2dq"
      }
    },
    {
      "cell_type": "markdown",
      "source": [
        "## Gasolina C"
      ],
      "metadata": {
        "id": "H73BgO3ETgUu"
      }
    },
    {
      "cell_type": "markdown",
      "source": [
        "### Variáveis"
      ],
      "metadata": {
        "id": "oRb8sWA2M00c"
      }
    },
    {
      "cell_type": "code",
      "source": [
        "dados_gasolinac = vendas_petroleo.loc[vendas_petroleo['PRODUTO'] == 'GASOLINA C' ].reset_index(drop = False)\n",
        "dados_gasolinac = dados_gasolinac.loc[dados_gasolinac['ANO'] > 2019]\n",
        "print(dados_gasolinac)\n",
        "\n",
        "dados_gasolinac1 = vendas_petroleo.loc[vendas_petroleo['PRODUTO'] == 'GASOLINA C' ].reset_index(drop = False)\n",
        "dados_gasolinac1 = dados_gasolinac1.loc[dados_gasolinac1['ANO'] == 2020]\n",
        "print(dados_gasolinac1)\n",
        "\n",
        "dados_gasolinac2 = vendas_petroleo.loc[vendas_petroleo['PRODUTO'] == 'GASOLINA C' ].reset_index(drop = False)\n",
        "dados_gasolinac2 = dados_gasolinac2.loc[dados_gasolinac2['ANO'] == 2021]\n",
        "print(dados_gasolinac2)\n",
        "\n",
        "dados_gasolinac3 = vendas_petroleo.loc[vendas_petroleo['PRODUTO'] == 'GASOLINA C' ].reset_index(drop = False)\n",
        "dados_gasolinac3 = dados_gasolinac3.loc[dados_gasolinac3['ANO'] == 2022]\n",
        "print(dados_gasolinac3)"
      ],
      "metadata": {
        "id": "cdcB8741TE7X",
        "colab": {
          "base_uri": "https://localhost:8080/"
        },
        "outputId": "8a949a2f-1c20-418c-b7de-bad684bf4ff4"
      },
      "execution_count": 34,
      "outputs": [
        {
          "output_type": "stream",
          "name": "stdout",
          "text": [
            "       index   ANO  MES    GRANDE_REGIAO       UF     PRODUTO   VENDAS_m3\n",
            "9720   78084  2020  NOV  REGIÃO NORDESTE    PIAUÍ  GASOLINA C   49295.440\n",
            "9721   78085  2020  ABR  REGIÃO NORDESTE    CEARÁ  GASOLINA C   77230.615\n",
            "9722   78086  2020  DEZ  REGIÃO NORDESTE    PIAUÍ  GASOLINA C   56033.939\n",
            "9723   78087  2020  ABR  REGIÃO NORDESTE  SERGIPE  GASOLINA C   24225.500\n",
            "9724   78088  2020  DEZ  REGIÃO NORDESTE  ALAGOAS  GASOLINA C   43143.741\n",
            "...      ...   ...  ...              ...      ...         ...         ...\n",
            "10444  83101  2022  FEV  REGIÃO NORDESTE    CEARÁ  GASOLINA C  108625.000\n",
            "10445  83102  2022  FEV  REGIÃO NORDESTE    PIAUÍ  GASOLINA C   41076.700\n",
            "10446  83103  2022  MAR  REGIÃO NORDESTE    PIAUÍ  GASOLINA C   38758.000\n",
            "10447  83104  2022  MAR  REGIÃO NORDESTE    CEARÁ  GASOLINA C  109226.335\n",
            "10448  83105  2022  JAN  REGIÃO NORDESTE    CEARÁ  GASOLINA C  103587.800\n",
            "\n",
            "[729 rows x 7 columns]\n",
            "       index   ANO  MES    GRANDE_REGIAO        UF     PRODUTO  VENDAS_m3\n",
            "9720   78084  2020  NOV  REGIÃO NORDESTE     PIAUÍ  GASOLINA C  49295.440\n",
            "9721   78085  2020  ABR  REGIÃO NORDESTE     CEARÁ  GASOLINA C  77230.615\n",
            "9722   78086  2020  DEZ  REGIÃO NORDESTE     PIAUÍ  GASOLINA C  56033.939\n",
            "9723   78087  2020  ABR  REGIÃO NORDESTE   SERGIPE  GASOLINA C  24225.500\n",
            "9724   78088  2020  DEZ  REGIÃO NORDESTE   ALAGOAS  GASOLINA C  43143.741\n",
            "...      ...   ...  ...              ...       ...         ...        ...\n",
            "10039  78403  2020  JAN  REGIÃO NORDESTE  MARANHÃO  GASOLINA C  78660.342\n",
            "10040  78404  2020  FEV  REGIÃO NORDESTE  MARANHÃO  GASOLINA C  72636.120\n",
            "10041  78405  2020  MAI  REGIÃO NORDESTE     PIAUÍ  GASOLINA C  34378.470\n",
            "10042  78406  2020  MAR  REGIÃO NORDESTE     PIAUÍ  GASOLINA C  37660.840\n",
            "10043  78407  2020  JAN  REGIÃO NORDESTE     PIAUÍ  GASOLINA C  47747.350\n",
            "\n",
            "[324 rows x 7 columns]\n",
            "       index   ANO  MES        GRANDE_REGIAO                UF     PRODUTO  \\\n",
            "10044  80676  2021  MAI      REGIÃO NORDESTE             PIAUÍ  GASOLINA C   \n",
            "10045  80677  2021  JUL      REGIÃO NORDESTE             PIAUÍ  GASOLINA C   \n",
            "10046  80678  2021  JUN      REGIÃO NORDESTE             PIAUÍ  GASOLINA C   \n",
            "10047  80679  2021  FEV      REGIÃO NORDESTE             CEARÁ  GASOLINA C   \n",
            "10048  80680  2021  JAN      REGIÃO NORDESTE             CEARÁ  GASOLINA C   \n",
            "...      ...   ...  ...                  ...               ...         ...   \n",
            "10363  80995  2021  JUN         REGIÃO NORTE          AMAZONAS  GASOLINA C   \n",
            "10364  80996  2021  FEV         REGIÃO NORTE           RORAIMA  GASOLINA C   \n",
            "10365  80997  2021  JUL         REGIÃO NORTE          AMAZONAS  GASOLINA C   \n",
            "10366  80998  2021  DEZ  REGIÃO CENTRO-OESTE  DISTRITO FEDERAL  GASOLINA C   \n",
            "10367  80999  2021  NOV      REGIÃO NORDESTE             PIAUÍ  GASOLINA C   \n",
            "\n",
            "        VENDAS_m3  \n",
            "10044   42086.780  \n",
            "10045   47254.700  \n",
            "10046   44229.950  \n",
            "10047   92980.200  \n",
            "10048  116353.092  \n",
            "...           ...  \n",
            "10363   55311.193  \n",
            "10364   12281.400  \n",
            "10365   56443.725  \n",
            "10366   96351.000  \n",
            "10367   43606.700  \n",
            "\n",
            "[324 rows x 7 columns]\n",
            "       index   ANO  MES        GRANDE_REGIAO              UF     PRODUTO  \\\n",
            "10368  83025  2022  MAR  REGIÃO CENTRO-OESTE     MATO GROSSO  GASOLINA C   \n",
            "10369  83026  2022  JAN  REGIÃO CENTRO-OESTE           GOIÁS  GASOLINA C   \n",
            "10370  83027  2022  FEV           REGIÃO SUL  SANTA CATARINA  GASOLINA C   \n",
            "10371  83028  2022  MAR           REGIÃO SUL  SANTA CATARINA  GASOLINA C   \n",
            "10372  83029  2022  FEV  REGIÃO CENTRO-OESTE           GOIÁS  GASOLINA C   \n",
            "...      ...   ...  ...                  ...             ...         ...   \n",
            "10444  83101  2022  FEV      REGIÃO NORDESTE           CEARÁ  GASOLINA C   \n",
            "10445  83102  2022  FEV      REGIÃO NORDESTE           PIAUÍ  GASOLINA C   \n",
            "10446  83103  2022  MAR      REGIÃO NORDESTE           PIAUÍ  GASOLINA C   \n",
            "10447  83104  2022  MAR      REGIÃO NORDESTE           CEARÁ  GASOLINA C   \n",
            "10448  83105  2022  JAN      REGIÃO NORDESTE           CEARÁ  GASOLINA C   \n",
            "\n",
            "        VENDAS_m3  \n",
            "10368   53564.186  \n",
            "10369  106223.357  \n",
            "10370  239348.962  \n",
            "10371  243723.877  \n",
            "10372   98017.240  \n",
            "...           ...  \n",
            "10444  108625.000  \n",
            "10445   41076.700  \n",
            "10446   38758.000  \n",
            "10447  109226.335  \n",
            "10448  103587.800  \n",
            "\n",
            "[81 rows x 7 columns]\n"
          ]
        }
      ]
    },
    {
      "cell_type": "code",
      "source": [
        "agrup_quant8 = dados_gasolinac.drop(columns=['MES'])\n",
        "agrup_quant8 = agrup_quant8.groupby([\"ANO\", 'GRANDE_REGIAO']).agg({'VENDAS_m3': 'sum'})\n",
        "print(agrup_quant8)\n",
        "\n",
        "agrup_quant9 = dados_gasolinac1.drop(columns=['MES'])\n",
        "agrup_quant9 = agrup_quant9.groupby([\"ANO\", 'GRANDE_REGIAO']).agg({'VENDAS_m3': 'sum'})\n",
        "print(agrup_quant9)\n",
        "\n",
        "agrup_quant10 = dados_gasolinac2.drop(columns=['MES'])\n",
        "agrup_quant10 = agrup_quant10.groupby([\"ANO\", 'GRANDE_REGIAO']).agg({'VENDAS_m3': 'sum'})\n",
        "print(agrup_quant10)\n",
        "\n",
        "agrup_quant11 = dados_gasolinac3.drop(columns=['MES'])\n",
        "agrup_quant11 = agrup_quant11.groupby([\"ANO\", 'GRANDE_REGIAO']).agg({'VENDAS_m3': 'sum'})\n",
        "print(agrup_quant11)"
      ],
      "metadata": {
        "id": "BvS8fFdaUmSr",
        "colab": {
          "base_uri": "https://localhost:8080/"
        },
        "outputId": "aa8c488b-31a7-4cf6-8d47-791970ce7885"
      },
      "execution_count": 35,
      "outputs": [
        {
          "output_type": "stream",
          "name": "stdout",
          "text": [
            "                             VENDAS_m3\n",
            "ANO  GRANDE_REGIAO                    \n",
            "2020 REGIÃO CENTRO-OESTE  3.277974e+06\n",
            "     REGIÃO NORDESTE      7.979655e+06\n",
            "     REGIÃO NORTE         3.084105e+06\n",
            "     REGIÃO SUDESTE       1.317557e+07\n",
            "     REGIÃO SUL           8.306306e+06\n",
            "2021 REGIÃO CENTRO-OESTE  3.550417e+06\n",
            "     REGIÃO NORDESTE      8.269216e+06\n",
            "     REGIÃO NORTE         3.158692e+06\n",
            "     REGIÃO SUDESTE       1.543184e+07\n",
            "     REGIÃO SUL           8.907179e+06\n",
            "2022 REGIÃO CENTRO-OESTE  8.744883e+05\n",
            "     REGIÃO NORDESTE      1.944441e+06\n",
            "     REGIÃO NORTE         7.363881e+05\n",
            "     REGIÃO SUDESTE       4.028260e+06\n",
            "     REGIÃO SUL           2.287718e+06\n",
            "                             VENDAS_m3\n",
            "ANO  GRANDE_REGIAO                    \n",
            "2020 REGIÃO CENTRO-OESTE  3.277974e+06\n",
            "     REGIÃO NORDESTE      7.979655e+06\n",
            "     REGIÃO NORTE         3.084105e+06\n",
            "     REGIÃO SUDESTE       1.317557e+07\n",
            "     REGIÃO SUL           8.306306e+06\n",
            "                             VENDAS_m3\n",
            "ANO  GRANDE_REGIAO                    \n",
            "2021 REGIÃO CENTRO-OESTE  3.550417e+06\n",
            "     REGIÃO NORDESTE      8.269216e+06\n",
            "     REGIÃO NORTE         3.158692e+06\n",
            "     REGIÃO SUDESTE       1.543184e+07\n",
            "     REGIÃO SUL           8.907179e+06\n",
            "                            VENDAS_m3\n",
            "ANO  GRANDE_REGIAO                   \n",
            "2022 REGIÃO CENTRO-OESTE   874488.289\n",
            "     REGIÃO NORDESTE      1944441.094\n",
            "     REGIÃO NORTE          736388.052\n",
            "     REGIÃO SUDESTE       4028259.632\n",
            "     REGIÃO SUL           2287718.499\n"
          ]
        }
      ]
    },
    {
      "cell_type": "markdown",
      "source": [
        "### Gráficos"
      ],
      "metadata": {
        "id": "5g3Yf5wPM5FE"
      }
    },
    {
      "cell_type": "markdown",
      "source": [
        "Gasolina C - 2020 a 2022"
      ],
      "metadata": {
        "id": "HQGOsj3KM9bz"
      }
    },
    {
      "cell_type": "code",
      "source": [
        "agrup_quant8.plot.bar(stacked= True)\n",
        "plt.show()"
      ],
      "metadata": {
        "colab": {
          "base_uri": "https://localhost:8080/",
          "height": 0
        },
        "id": "jsM-yzcBNFL7",
        "outputId": "64d43599-cae3-48f0-c204-5dbb36369461"
      },
      "execution_count": 36,
      "outputs": [
        {
          "output_type": "display_data",
          "data": {
            "text/plain": [
              "<Figure size 432x288 with 1 Axes>"
            ],
            "image/png": "[encoded data removed]"
          },
          "metadata": {
            "needs_background": "light"
          }
        }
      ]
    },
    {
      "cell_type": "markdown",
      "source": [
        "Gasolina C - 2020"
      ],
      "metadata": {
        "id": "VaDxV_uyNRni"
      }
    },
    {
      "cell_type": "code",
      "source": [
        "agrup_quant9.plot.bar(stacked= True)\n",
        "plt.show()"
      ],
      "metadata": {
        "colab": {
          "base_uri": "https://localhost:8080/",
          "height": 0
        },
        "id": "h1f_kfv9NZnS",
        "outputId": "9d4a6f67-ff8f-42fb-8e5b-c8d737e565c8"
      },
      "execution_count": 37,
      "outputs": [
        {
          "output_type": "display_data",
          "data": {
            "text/plain": [
              "<Figure size 432x288 with 1 Axes>"
            ],
            "image/png": "[encoded data removed]"
          },
          "metadata": {
            "needs_background": "light"
          }
        }
      ]
    },
    {
      "cell_type": "markdown",
      "source": [
        "O nordeste se encontra em terceiro lugar no ranking de vendas de gasolina comum em 2020"
      ],
      "metadata": {
        "id": "ZHNYuCSkO8un"
      }
    },
    {
      "cell_type": "markdown",
      "source": [
        "Gasolina C - 2021"
      ],
      "metadata": {
        "id": "HFut104MNhfK"
      }
    },
    {
      "cell_type": "code",
      "source": [
        "agrup_quant10.plot.bar(stacked= True)\n",
        "plt.show()"
      ],
      "metadata": {
        "colab": {
          "base_uri": "https://localhost:8080/",
          "height": 0
        },
        "id": "aqsy8FCyNeDT",
        "outputId": "7b4dc63b-df13-4c7d-8c01-92bc14f4a56b"
      },
      "execution_count": 38,
      "outputs": [
        {
          "output_type": "display_data",
          "data": {
            "text/plain": [
              "<Figure size 432x288 with 1 Axes>"
            ],
            "image/png": "[encoded data removed]"
          },
          "metadata": {
            "needs_background": "light"
          }
        }
      ]
    },
    {
      "cell_type": "markdown",
      "source": [
        "O nordeste se encontra divide segundo lugar no ranking de vendas de gasolina comum em 2021"
      ],
      "metadata": {
        "id": "Q-6zdgCPPQuP"
      }
    },
    {
      "cell_type": "markdown",
      "source": [
        "Gasolina C - 2022"
      ],
      "metadata": {
        "id": "FqbLsfUyNjzN"
      }
    },
    {
      "cell_type": "code",
      "source": [
        "agrup_quant11.plot.bar(stacked= True)\n",
        "plt.show()"
      ],
      "metadata": {
        "colab": {
          "base_uri": "https://localhost:8080/",
          "height": 0
        },
        "id": "GJBIB0WYNmba",
        "outputId": "5e25adb6-d8a3-4875-d352-028d1766d129"
      },
      "execution_count": 39,
      "outputs": [
        {
          "output_type": "display_data",
          "data": {
            "text/plain": [
              "<Figure size 432x288 with 1 Axes>"
            ],
            "image/png": "[encoded data removed]"
          },
          "metadata": {
            "needs_background": "light"
          }
        }
      ]
    },
    {
      "cell_type": "markdown",
      "source": [
        "O nordeste se encontra em terceiro lugar no ranking de vendas de gasolina comum em 2022"
      ],
      "metadata": {
        "id": "wOYbEhLDPYXO"
      }
    },
    {
      "cell_type": "markdown",
      "source": [
        "**Gráfico em seaborn**"
      ],
      "metadata": {
        "id": "dsZKqcniVJBM"
      }
    },
    {
      "cell_type": "code",
      "source": [
        "plt.title('Vendas de gasolina comum nos anos de 2020 a 2022')\n",
        "sns.barplot(data = dados_gasolinac, x = 'ANO' , y ='VENDAS_m3', hue = 'GRANDE_REGIAO', palette = 'twilight' )"
      ],
      "metadata": {
        "id": "g_tRTWHkUvg0",
        "colab": {
          "base_uri": "https://localhost:8080/",
          "height": 0
        },
        "outputId": "e5cb80ed-537f-45de-dc48-27802d0a078f"
      },
      "execution_count": 40,
      "outputs": [
        {
          "output_type": "execute_result",
          "data": {
            "text/plain": [
              "<matplotlib.axes._subplots.AxesSubplot at 0x7fab7271f650>"
            ]
          },
          "metadata": {},
          "execution_count": 40
        },
        {
          "output_type": "display_data",
          "data": {
            "text/plain": [
              "<Figure size 432x288 with 1 Axes>"
            ],
            "image/png": "[encoded data removed]"
          },
          "metadata": {
            "needs_background": "light"
          }
        }
      ]
    },
    {
      "cell_type": "markdown",
      "source": [
        "Os dados do nordeste e centro-oeste parecem não haver modificações"
      ],
      "metadata": {
        "id": "PJi3hUbwVCWg"
      }
    },
    {
      "cell_type": "markdown",
      "source": [
        "## Filtrando e agrupando variáveis para nordeste"
      ],
      "metadata": {
        "id": "BcTQMMt1Qwhe"
      }
    },
    {
      "cell_type": "markdown",
      "source": [
        "### Gasolina C"
      ],
      "metadata": {
        "id": "np2MpS0YKhCR"
      }
    },
    {
      "cell_type": "code",
      "source": [
        "dados_uf = vendas_petroleo[(vendas_petroleo[\"PRODUTO\"] == \"GASOLINA C\") & (vendas_petroleo[\"GRANDE_REGIAO\"] == \"REGIÃO NORDESTE\") & (vendas_petroleo[\"ANO\"] == 2020)]\n",
        "print(dados_uf)"
      ],
      "metadata": {
        "colab": {
          "base_uri": "https://localhost:8080/"
        },
        "id": "3ziO3xFjQw0G",
        "outputId": "100b51ce-3b6d-431d-88aa-2b0062fb4e3e"
      },
      "execution_count": 41,
      "outputs": [
        {
          "output_type": "stream",
          "name": "stdout",
          "text": [
            "        ANO  MES    GRANDE_REGIAO        UF     PRODUTO  VENDAS_m3\n",
            "78084  2020  NOV  REGIÃO NORDESTE     PIAUÍ  GASOLINA C  49295.440\n",
            "78085  2020  ABR  REGIÃO NORDESTE     CEARÁ  GASOLINA C  77230.615\n",
            "78086  2020  DEZ  REGIÃO NORDESTE     PIAUÍ  GASOLINA C  56033.939\n",
            "78087  2020  ABR  REGIÃO NORDESTE   SERGIPE  GASOLINA C  24225.500\n",
            "78088  2020  DEZ  REGIÃO NORDESTE   ALAGOAS  GASOLINA C  43143.741\n",
            "...     ...  ...              ...       ...         ...        ...\n",
            "78403  2020  JAN  REGIÃO NORDESTE  MARANHÃO  GASOLINA C  78660.342\n",
            "78404  2020  FEV  REGIÃO NORDESTE  MARANHÃO  GASOLINA C  72636.120\n",
            "78405  2020  MAI  REGIÃO NORDESTE     PIAUÍ  GASOLINA C  34378.470\n",
            "78406  2020  MAR  REGIÃO NORDESTE     PIAUÍ  GASOLINA C  37660.840\n",
            "78407  2020  JAN  REGIÃO NORDESTE     PIAUÍ  GASOLINA C  47747.350\n",
            "\n",
            "[108 rows x 6 columns]\n"
          ]
        }
      ]
    },
    {
      "cell_type": "markdown",
      "source": [
        "O dados por unidade de federação foi filtrado somente para 'REGIAO NORDESTE', o produto para gasolina comum e o ano 'igual a 2020'"
      ],
      "metadata": {
        "id": "_9jUrMl2Q8G-"
      }
    },
    {
      "cell_type": "markdown",
      "source": [
        "**Agrupando**"
      ],
      "metadata": {
        "id": "juEsbLw4KdlK"
      }
    },
    {
      "cell_type": "code",
      "source": [
        "agrup_uf1 = dados_uf.drop(columns=['MES'])\n",
        "agrup_uf1 = dados_uf.groupby([\"ANO\", 'UF']).agg({'VENDAS_m3': 'sum'})\n",
        "print(agrup_uf1)"
      ],
      "metadata": {
        "colab": {
          "base_uri": "https://localhost:8080/"
        },
        "id": "KWJMSHf6KZFJ",
        "outputId": "cbce9b21-b2ea-4aba-8b5a-7c172bbf4a79"
      },
      "execution_count": 42,
      "outputs": [
        {
          "output_type": "stream",
          "name": "stdout",
          "text": [
            "                            VENDAS_m3\n",
            "ANO  UF                              \n",
            "2020 ALAGOAS               423867.371\n",
            "     BAHIA                2001075.798\n",
            "     CEARÁ                1278277.444\n",
            "     MARANHÃO              926654.668\n",
            "     PARAÍBA               621657.743\n",
            "     PERNAMBUCO           1273074.014\n",
            "     PIAUÍ                 519740.879\n",
            "     RIO GRANDE DO NORTE   577782.806\n",
            "     SERGIPE               357524.119\n"
          ]
        }
      ]
    },
    {
      "cell_type": "markdown",
      "source": [
        "**Gráfico**"
      ],
      "metadata": {
        "id": "LpEb4FBcKsRA"
      }
    },
    {
      "cell_type": "code",
      "source": [
        "agrup_uf1.plot.bar(stacked= True)\n",
        "plt.show()"
      ],
      "metadata": {
        "colab": {
          "base_uri": "https://localhost:8080/",
          "height": 438
        },
        "id": "AwbEWO4IKt8x",
        "outputId": "7b1b17a5-8416-4b44-b13f-8a006459a835"
      },
      "execution_count": 43,
      "outputs": [
        {
          "output_type": "display_data",
          "data": {
            "text/plain": [
              "<Figure size 432x288 with 1 Axes>"
            ],
            "image/png": "[encoded data removed]"
          },
          "metadata": {
            "needs_background": "light"
          }
        }
      ]
    },
    {
      "cell_type": "markdown",
      "source": [
        "A Bahia está em primeiro lugar no ranking de vendas de gasolia comum em 2020"
      ],
      "metadata": {
        "id": "WM8iJnh3KwNx"
      }
    },
    {
      "cell_type": "markdown",
      "source": [
        "**2021**"
      ],
      "metadata": {
        "id": "TmEPQEyyW7k-"
      }
    },
    {
      "cell_type": "code",
      "source": [
        "dados_uf2 = vendas_petroleo[(vendas_petroleo[\"PRODUTO\"] == \"GASOLINA C\") & (vendas_petroleo[\"GRANDE_REGIAO\"] == \"REGIÃO NORDESTE\") & (vendas_petroleo[\"ANO\"] == 2021)]\n",
        "print(dados_uf2)"
      ],
      "metadata": {
        "colab": {
          "base_uri": "https://localhost:8080/"
        },
        "id": "BtlZ5jEhW_Rs",
        "outputId": "2e3a1584-1e3b-4bcd-a3e7-c3b43cc4aeaf"
      },
      "execution_count": 44,
      "outputs": [
        {
          "output_type": "stream",
          "name": "stdout",
          "text": [
            "        ANO  MES    GRANDE_REGIAO       UF     PRODUTO   VENDAS_m3\n",
            "80676  2021  MAI  REGIÃO NORDESTE    PIAUÍ  GASOLINA C   42086.780\n",
            "80677  2021  JUL  REGIÃO NORDESTE    PIAUÍ  GASOLINA C   47254.700\n",
            "80678  2021  JUN  REGIÃO NORDESTE    PIAUÍ  GASOLINA C   44229.950\n",
            "80679  2021  FEV  REGIÃO NORDESTE    CEARÁ  GASOLINA C   92980.200\n",
            "80680  2021  JAN  REGIÃO NORDESTE    CEARÁ  GASOLINA C  116353.092\n",
            "...     ...  ...              ...      ...         ...         ...\n",
            "80797  2021  SET  REGIÃO NORDESTE  ALAGOAS  GASOLINA C   39058.000\n",
            "80798  2021  AGO  REGIÃO NORDESTE  ALAGOAS  GASOLINA C   38593.500\n",
            "80799  2021  JUL  REGIÃO NORDESTE  ALAGOAS  GASOLINA C   38634.000\n",
            "80800  2021  JUN  REGIÃO NORDESTE  ALAGOAS  GASOLINA C   35819.500\n",
            "80999  2021  NOV  REGIÃO NORDESTE    PIAUÍ  GASOLINA C   43606.700\n",
            "\n",
            "[108 rows x 6 columns]\n"
          ]
        }
      ]
    },
    {
      "cell_type": "markdown",
      "source": [
        ""
      ],
      "metadata": {
        "id": "624lE01Oat9K"
      }
    },
    {
      "cell_type": "code",
      "source": [
        "agrup_uf2 = dados_uf2.drop(columns=['MES'])\n",
        "agrup_uf2 = dados_uf2.groupby([\"ANO\", 'UF']).agg({'VENDAS_m3': 'sum'})\n",
        "print(agrup_uf2)"
      ],
      "metadata": {
        "colab": {
          "base_uri": "https://localhost:8080/"
        },
        "id": "Chc_r5NZXMnN",
        "outputId": "51e86d1a-01df-41fd-e336-b7d79fed17d0"
      },
      "execution_count": 45,
      "outputs": [
        {
          "output_type": "stream",
          "name": "stdout",
          "text": [
            "                            VENDAS_m3\n",
            "ANO  UF                              \n",
            "2021 ALAGOAS               439772.327\n",
            "     BAHIA                2064159.036\n",
            "     CEARÁ                1326330.249\n",
            "     MARANHÃO              961286.850\n",
            "     PARAÍBA               663078.184\n",
            "     PERNAMBUCO           1317326.970\n",
            "     PIAUÍ                 535982.113\n",
            "     RIO GRANDE DO NORTE   595237.017\n",
            "     SERGIPE               366043.709\n"
          ]
        }
      ]
    },
    {
      "cell_type": "markdown",
      "source": [
        ""
      ],
      "metadata": {
        "id": "D27Oy-FHatSC"
      }
    },
    {
      "cell_type": "code",
      "source": [
        "agrup_uf2.plot.bar(stacked= True)\n",
        "plt.show()"
      ],
      "metadata": {
        "colab": {
          "base_uri": "https://localhost:8080/",
          "height": 438
        },
        "id": "H87Vy-zLYJxd",
        "outputId": "ca11b7f2-030c-41af-b4a7-4ca7619fefba"
      },
      "execution_count": 46,
      "outputs": [
        {
          "output_type": "display_data",
          "data": {
            "text/plain": [
              "<Figure size 432x288 with 1 Axes>"
            ],
            "image/png": "[encoded data removed]"
          },
          "metadata": {
            "needs_background": "light"
          }
        }
      ]
    },
    {
      "cell_type": "markdown",
      "source": [
        ""
      ],
      "metadata": {
        "id": "-x2lEBVDasK7"
      }
    },
    {
      "cell_type": "markdown",
      "source": [
        "**2022**"
      ],
      "metadata": {
        "id": "JTt5ZNpAXD0G"
      }
    },
    {
      "cell_type": "code",
      "source": [
        "dados_uf3 = vendas_petroleo[(vendas_petroleo[\"PRODUTO\"] == \"GASOLINA C\") & (vendas_petroleo[\"GRANDE_REGIAO\"] == \"REGIÃO NORDESTE\") & (vendas_petroleo[\"ANO\"] == 2022)]\n",
        "print(dados_uf3)"
      ],
      "metadata": {
        "colab": {
          "base_uri": "https://localhost:8080/"
        },
        "id": "EXii8qOBXGB0",
        "outputId": "dab80f2d-5578-4664-fffc-36d7a5dd2524"
      },
      "execution_count": 47,
      "outputs": [
        {
          "output_type": "stream",
          "name": "stdout",
          "text": [
            "        ANO  MES    GRANDE_REGIAO                   UF     PRODUTO   VENDAS_m3\n",
            "83049  2022  FEV  REGIÃO NORDESTE                BAHIA  GASOLINA C  161314.929\n",
            "83050  2022  MAR  REGIÃO NORDESTE                BAHIA  GASOLINA C  156199.091\n",
            "83054  2022  MAR  REGIÃO NORDESTE              SERGIPE  GASOLINA C   28576.000\n",
            "83057  2022  JAN  REGIÃO NORDESTE                BAHIA  GASOLINA C  172831.867\n",
            "83058  2022  JAN  REGIÃO NORDESTE              SERGIPE  GASOLINA C   28656.593\n",
            "83060  2022  FEV  REGIÃO NORDESTE              SERGIPE  GASOLINA C   29528.500\n",
            "83061  2022  MAR  REGIÃO NORDESTE              ALAGOAS  GASOLINA C   34338.483\n",
            "83073  2022  FEV  REGIÃO NORDESTE              ALAGOAS  GASOLINA C   36194.500\n",
            "83083  2022  MAR  REGIÃO NORDESTE              PARAÍBA  GASOLINA C   51813.478\n",
            "83084  2022  JAN  REGIÃO NORDESTE           PERNAMBUCO  GASOLINA C  102121.814\n",
            "83085  2022  JAN  REGIÃO NORDESTE              ALAGOAS  GASOLINA C   36111.500\n",
            "83086  2022  FEV  REGIÃO NORDESTE           PERNAMBUCO  GASOLINA C  101711.350\n",
            "83087  2022  MAR  REGIÃO NORDESTE             MARANHÃO  GASOLINA C   73828.730\n",
            "83089  2022  JAN  REGIÃO NORDESTE             MARANHÃO  GASOLINA C   72096.960\n",
            "83090  2022  JAN  REGIÃO NORDESTE                PIAUÍ  GASOLINA C   41918.366\n",
            "83091  2022  FEV  REGIÃO NORDESTE             MARANHÃO  GASOLINA C   73947.160\n",
            "83093  2022  JAN  REGIÃO NORDESTE              PARAÍBA  GASOLINA C   52760.550\n",
            "83096  2022  FEV  REGIÃO NORDESTE              PARAÍBA  GASOLINA C   51392.340\n",
            "83097  2022  FEV  REGIÃO NORDESTE  RIO GRANDE DO NORTE  GASOLINA C   45999.045\n",
            "83098  2022  MAR  REGIÃO NORDESTE           PERNAMBUCO  GASOLINA C  101018.050\n",
            "83099  2022  MAR  REGIÃO NORDESTE  RIO GRANDE DO NORTE  GASOLINA C   45356.305\n",
            "83100  2022  JAN  REGIÃO NORDESTE  RIO GRANDE DO NORTE  GASOLINA C   45451.648\n",
            "83101  2022  FEV  REGIÃO NORDESTE                CEARÁ  GASOLINA C  108625.000\n",
            "83102  2022  FEV  REGIÃO NORDESTE                PIAUÍ  GASOLINA C   41076.700\n",
            "83103  2022  MAR  REGIÃO NORDESTE                PIAUÍ  GASOLINA C   38758.000\n",
            "83104  2022  MAR  REGIÃO NORDESTE                CEARÁ  GASOLINA C  109226.335\n",
            "83105  2022  JAN  REGIÃO NORDESTE                CEARÁ  GASOLINA C  103587.800\n"
          ]
        }
      ]
    },
    {
      "cell_type": "markdown",
      "source": [
        ""
      ],
      "metadata": {
        "id": "13MSnlOcarky"
      }
    },
    {
      "cell_type": "code",
      "source": [
        "agrup_uf3 = dados_uf3.drop(columns=['MES'])\n",
        "agrup_uf3 = dados_uf3.groupby([\"ANO\", 'UF']).agg({'VENDAS_m3': 'sum'})\n",
        "print(agrup_uf3)"
      ],
      "metadata": {
        "colab": {
          "base_uri": "https://localhost:8080/"
        },
        "id": "14-i6gf9XRuc",
        "outputId": "90df5ae1-c71f-4aa4-ce5a-c82e80c72358"
      },
      "execution_count": 48,
      "outputs": [
        {
          "output_type": "stream",
          "name": "stdout",
          "text": [
            "                           VENDAS_m3\n",
            "ANO  UF                             \n",
            "2022 ALAGOAS              106644.483\n",
            "     BAHIA                490345.887\n",
            "     CEARÁ                321439.135\n",
            "     MARANHÃO             219872.850\n",
            "     PARAÍBA              155966.368\n",
            "     PERNAMBUCO           304851.214\n",
            "     PIAUÍ                121753.066\n",
            "     RIO GRANDE DO NORTE  136806.998\n",
            "     SERGIPE               86761.093\n"
          ]
        }
      ]
    },
    {
      "cell_type": "markdown",
      "source": [
        ""
      ],
      "metadata": {
        "id": "js73AjxlarOC"
      }
    },
    {
      "cell_type": "code",
      "source": [
        "agrup_uf3.plot.bar(stacked= True)\n",
        "plt.show()"
      ],
      "metadata": {
        "colab": {
          "base_uri": "https://localhost:8080/",
          "height": 427
        },
        "id": "pTbfQ0c4YQnr",
        "outputId": "13aaba86-a56e-41f5-b35d-22d911a1ccf2"
      },
      "execution_count": 49,
      "outputs": [
        {
          "output_type": "display_data",
          "data": {
            "text/plain": [
              "<Figure size 432x288 with 1 Axes>"
            ],
            "image/png": "[encoded data removed]"
          },
          "metadata": {
            "needs_background": "light"
          }
        }
      ]
    },
    {
      "cell_type": "markdown",
      "source": [
        ""
      ],
      "metadata": {
        "id": "WHYX3UFkaqnl"
      }
    },
    {
      "cell_type": "markdown",
      "source": [
        "###Óleo disel"
      ],
      "metadata": {
        "id": "-R_rX5p9KBOA"
      }
    },
    {
      "cell_type": "code",
      "source": [
        "dados_uf5 = vendas_petroleo[(vendas_petroleo[\"PRODUTO\"] == \"ÓLEO DIESEL\") & (vendas_petroleo[\"GRANDE_REGIAO\"] == \"REGIÃO NORDESTE\") & (vendas_petroleo[\"ANO\"] == 2020)]\n",
        "print(dados_uf5)"
      ],
      "metadata": {
        "colab": {
          "base_uri": "https://localhost:8080/"
        },
        "id": "CdmlB-00KFXo",
        "outputId": "1dceeb93-449a-4b2a-d8cf-b05203191eff"
      },
      "execution_count": 50,
      "outputs": [
        {
          "output_type": "stream",
          "name": "stdout",
          "text": [
            "        ANO  MES    GRANDE_REGIAO        UF      PRODUTO   VENDAS_m3\n",
            "80047  2020  MAI  REGIÃO NORDESTE   PARAÍBA  ÓLEO DIESEL   26738.420\n",
            "80048  2020  ABR  REGIÃO NORDESTE   PARAÍBA  ÓLEO DIESEL   24101.420\n",
            "80102  2020  SET  REGIÃO NORDESTE     BAHIA  ÓLEO DIESEL  287061.005\n",
            "80104  2020  OUT  REGIÃO NORDESTE     BAHIA  ÓLEO DIESEL  309353.909\n",
            "80105  2020  AGO  REGIÃO NORDESTE     BAHIA  ÓLEO DIESEL  279727.202\n",
            "...     ...  ...              ...       ...          ...         ...\n",
            "80347  2020  FEV  REGIÃO NORDESTE     PIAUÍ  ÓLEO DIESEL   37745.340\n",
            "80348  2020  SET  REGIÃO NORDESTE  MARANHÃO  ÓLEO DIESEL  140322.482\n",
            "80349  2020  AGO  REGIÃO NORDESTE  MARANHÃO  ÓLEO DIESEL  136336.548\n",
            "80350  2020  MAI  REGIÃO NORDESTE     PIAUÍ  ÓLEO DIESEL   40623.990\n",
            "80351  2020  ABR  REGIÃO NORDESTE     PIAUÍ  ÓLEO DIESEL   35459.500\n",
            "\n",
            "[108 rows x 6 columns]\n"
          ]
        }
      ]
    },
    {
      "cell_type": "markdown",
      "source": [
        ""
      ],
      "metadata": {
        "id": "idsEAE39aqAC"
      }
    },
    {
      "cell_type": "code",
      "source": [
        "agrup_uf5 = dados_uf5.drop(columns=['MES'])\n",
        "agrup_uf5 = agrup_uf5.groupby([\"ANO\", 'UF']).agg({'VENDAS_m3': 'sum'})\n",
        "print(agrup_uf5)"
      ],
      "metadata": {
        "colab": {
          "base_uri": "https://localhost:8080/"
        },
        "id": "uabTgJuSS29L",
        "outputId": "35f61577-52e8-4bea-c6ce-8b44c2b40ec3"
      },
      "execution_count": 51,
      "outputs": [
        {
          "output_type": "stream",
          "name": "stdout",
          "text": [
            "                            VENDAS_m3\n",
            "ANO  UF                              \n",
            "2020 ALAGOAS               337255.082\n",
            "     BAHIA                3110251.020\n",
            "     CEARÁ                 990086.961\n",
            "     MARANHÃO             1436736.127\n",
            "     PARAÍBA               417280.099\n",
            "     PERNAMBUCO           1375017.222\n",
            "     PIAUÍ                 541391.976\n",
            "     RIO GRANDE DO NORTE   447120.127\n",
            "     SERGIPE               306868.785\n"
          ]
        }
      ]
    },
    {
      "cell_type": "markdown",
      "source": [
        ""
      ],
      "metadata": {
        "id": "PwpSMopnapZy"
      }
    },
    {
      "cell_type": "code",
      "source": [
        "agrup_uf5.plot.bar(stacked= True)\n",
        "plt.show()"
      ],
      "metadata": {
        "colab": {
          "base_uri": "https://localhost:8080/",
          "height": 438
        },
        "id": "2vrMza0ULkS6",
        "outputId": "dd5030cd-fbb3-4f8a-fac0-2a4f0d1223b5"
      },
      "execution_count": 52,
      "outputs": [
        {
          "output_type": "display_data",
          "data": {
            "text/plain": [
              "<Figure size 432x288 with 1 Axes>"
            ],
            "image/png": "[encoded data removed]"
          },
          "metadata": {
            "needs_background": "light"
          }
        }
      ]
    },
    {
      "cell_type": "markdown",
      "source": [
        ""
      ],
      "metadata": {
        "id": "puacIskbaovK"
      }
    },
    {
      "cell_type": "code",
      "source": [
        "dados_uf6 = vendas_petroleo[(vendas_petroleo[\"PRODUTO\"] == \"ÓLEO DIESEL\") & (vendas_petroleo[\"GRANDE_REGIAO\"] == \"REGIÃO NORDESTE\") & (vendas_petroleo[\"ANO\"] == 2021)]\n",
        "print(dados_uf6)"
      ],
      "metadata": {
        "colab": {
          "base_uri": "https://localhost:8080/"
        },
        "id": "5Bw0kbi_Ze4Z",
        "outputId": "cf0f2f1d-a1f4-460b-f18d-656ae39f7579"
      },
      "execution_count": 53,
      "outputs": [
        {
          "output_type": "stream",
          "name": "stdout",
          "text": [
            "        ANO  MES    GRANDE_REGIAO          UF      PRODUTO   VENDAS_m3\n",
            "82686  2021  ABR  REGIÃO NORDESTE  PERNAMBUCO  ÓLEO DIESEL  110362.102\n",
            "82687  2021  MAI  REGIÃO NORDESTE  PERNAMBUCO  ÓLEO DIESEL  112940.313\n",
            "82688  2021  AGO  REGIÃO NORDESTE  PERNAMBUCO  ÓLEO DIESEL  160895.162\n",
            "82689  2021  JUN  REGIÃO NORDESTE  PERNAMBUCO  ÓLEO DIESEL  143447.012\n",
            "82690  2021  DEZ  REGIÃO NORDESTE    MARANHÃO  ÓLEO DIESEL  131341.381\n",
            "...     ...  ...              ...         ...          ...         ...\n",
            "82900  2021  JUN  REGIÃO NORDESTE     SERGIPE  ÓLEO DIESEL   23702.000\n",
            "82901  2021  NOV  REGIÃO NORDESTE     SERGIPE  ÓLEO DIESEL   28361.000\n",
            "82902  2021  OUT  REGIÃO NORDESTE     ALAGOAS  ÓLEO DIESEL   36671.842\n",
            "82903  2021  DEZ  REGIÃO NORDESTE     SERGIPE  ÓLEO DIESEL   29384.000\n",
            "82904  2021  OUT  REGIÃO NORDESTE     SERGIPE  ÓLEO DIESEL   28555.500\n",
            "\n",
            "[108 rows x 6 columns]\n"
          ]
        }
      ]
    },
    {
      "cell_type": "markdown",
      "source": [
        ""
      ],
      "metadata": {
        "id": "cw1i3A9Wan-y"
      }
    },
    {
      "cell_type": "code",
      "source": [
        "agrup_uf6 = dados_uf6.drop(columns=['MES'])\n",
        "agrup_uf6 = agrup_uf6.groupby([\"ANO\", 'UF']).agg({'VENDAS_m3': 'sum'})\n",
        "print(agrup_uf6)"
      ],
      "metadata": {
        "colab": {
          "base_uri": "https://localhost:8080/"
        },
        "id": "qtr7o2P8Zm-f",
        "outputId": "afee70f1-3015-46a9-a125-075e27849bbd"
      },
      "execution_count": 54,
      "outputs": [
        {
          "output_type": "stream",
          "name": "stdout",
          "text": [
            "                            VENDAS_m3\n",
            "ANO  UF                              \n",
            "2021 ALAGOAS               367024.752\n",
            "     BAHIA                3360299.284\n",
            "     CEARÁ                1080918.614\n",
            "     MARANHÃO             1522497.223\n",
            "     PARAÍBA               435237.376\n",
            "     PERNAMBUCO           1679667.449\n",
            "     PIAUÍ                 568525.834\n",
            "     RIO GRANDE DO NORTE   500855.023\n",
            "     SERGIPE               319516.080\n"
          ]
        }
      ]
    },
    {
      "cell_type": "markdown",
      "source": [
        ""
      ],
      "metadata": {
        "id": "3a7czA3TanYq"
      }
    },
    {
      "cell_type": "code",
      "source": [
        "agrup_uf6.plot.bar(stacked= True)\n",
        "plt.show()"
      ],
      "metadata": {
        "colab": {
          "base_uri": "https://localhost:8080/",
          "height": 438
        },
        "id": "HEkkBejjZwwE",
        "outputId": "08a01dd9-4f6c-4ed1-c460-369ab4fedda6"
      },
      "execution_count": 55,
      "outputs": [
        {
          "output_type": "display_data",
          "data": {
            "text/plain": [
              "<Figure size 432x288 with 1 Axes>"
            ],
            "image/png": "[encoded data removed]"
          },
          "metadata": {
            "needs_background": "light"
          }
        }
      ]
    },
    {
      "cell_type": "markdown",
      "source": [
        ""
      ],
      "metadata": {
        "id": "SzwmV0LqameU"
      }
    },
    {
      "cell_type": "code",
      "source": [
        "dados_uf7 = vendas_petroleo[(vendas_petroleo[\"PRODUTO\"] == \"ÓLEO DIESEL\") & (vendas_petroleo[\"GRANDE_REGIAO\"] == \"REGIÃO NORDESTE\") & (vendas_petroleo[\"ANO\"] == 2022)]\n",
        "print(dados_uf7)"
      ],
      "metadata": {
        "colab": {
          "base_uri": "https://localhost:8080/"
        },
        "id": "Y_fVT_BsZ39V",
        "outputId": "2dbd1afe-5950-419c-94b5-e632b8339d20"
      },
      "execution_count": 56,
      "outputs": [
        {
          "output_type": "stream",
          "name": "stdout",
          "text": [
            "        ANO  MES    GRANDE_REGIAO                   UF      PRODUTO  \\\n",
            "83520  2022  MAR  REGIÃO NORDESTE              ALAGOAS  ÓLEO DIESEL   \n",
            "83521  2022  JAN  REGIÃO NORDESTE              SERGIPE  ÓLEO DIESEL   \n",
            "83522  2022  JAN  REGIÃO NORDESTE                BAHIA  ÓLEO DIESEL   \n",
            "83523  2022  FEV  REGIÃO NORDESTE              SERGIPE  ÓLEO DIESEL   \n",
            "83524  2022  FEV  REGIÃO NORDESTE                BAHIA  ÓLEO DIESEL   \n",
            "83525  2022  MAR  REGIÃO NORDESTE                BAHIA  ÓLEO DIESEL   \n",
            "83538  2022  MAR  REGIÃO NORDESTE              SERGIPE  ÓLEO DIESEL   \n",
            "83550  2022  FEV  REGIÃO NORDESTE           PERNAMBUCO  ÓLEO DIESEL   \n",
            "83551  2022  JAN  REGIÃO NORDESTE              ALAGOAS  ÓLEO DIESEL   \n",
            "83552  2022  JAN  REGIÃO NORDESTE           PERNAMBUCO  ÓLEO DIESEL   \n",
            "83553  2022  MAR  REGIÃO NORDESTE              PARAÍBA  ÓLEO DIESEL   \n",
            "83554  2022  JAN  REGIÃO NORDESTE  RIO GRANDE DO NORTE  ÓLEO DIESEL   \n",
            "83555  2022  MAR  REGIÃO NORDESTE  RIO GRANDE DO NORTE  ÓLEO DIESEL   \n",
            "83556  2022  MAR  REGIÃO NORDESTE           PERNAMBUCO  ÓLEO DIESEL   \n",
            "83557  2022  FEV  REGIÃO NORDESTE  RIO GRANDE DO NORTE  ÓLEO DIESEL   \n",
            "83558  2022  FEV  REGIÃO NORDESTE                CEARÁ  ÓLEO DIESEL   \n",
            "83559  2022  JAN  REGIÃO NORDESTE             MARANHÃO  ÓLEO DIESEL   \n",
            "83560  2022  JAN  REGIÃO NORDESTE                CEARÁ  ÓLEO DIESEL   \n",
            "83561  2022  MAR  REGIÃO NORDESTE                CEARÁ  ÓLEO DIESEL   \n",
            "83562  2022  JAN  REGIÃO NORDESTE                PIAUÍ  ÓLEO DIESEL   \n",
            "83563  2022  MAR  REGIÃO NORDESTE             MARANHÃO  ÓLEO DIESEL   \n",
            "83565  2022  FEV  REGIÃO NORDESTE             MARANHÃO  ÓLEO DIESEL   \n",
            "83576  2022  FEV  REGIÃO NORDESTE              PARAÍBA  ÓLEO DIESEL   \n",
            "83577  2022  JAN  REGIÃO NORDESTE              PARAÍBA  ÓLEO DIESEL   \n",
            "83582  2022  FEV  REGIÃO NORDESTE                PIAUÍ  ÓLEO DIESEL   \n",
            "83583  2022  MAR  REGIÃO NORDESTE                PIAUÍ  ÓLEO DIESEL   \n",
            "83591  2022  FEV  REGIÃO NORDESTE              ALAGOAS  ÓLEO DIESEL   \n",
            "\n",
            "        VENDAS_m3  \n",
            "83520   35323.849  \n",
            "83521   26304.526  \n",
            "83522  245465.774  \n",
            "83523   26548.500  \n",
            "83524  243167.645  \n",
            "83525  282061.751  \n",
            "83538   30845.500  \n",
            "83550  121565.157  \n",
            "83551   34168.875  \n",
            "83552  119414.494  \n",
            "83553   35506.189  \n",
            "83554   35815.000  \n",
            "83555   37826.603  \n",
            "83556  131436.764  \n",
            "83557   35178.732  \n",
            "83558   83251.012  \n",
            "83559  111305.908  \n",
            "83560   83767.100  \n",
            "83561   88302.110  \n",
            "83562   40979.030  \n",
            "83563  123069.324  \n",
            "83565  111009.307  \n",
            "83576   33032.130  \n",
            "83577   34485.340  \n",
            "83582   42218.800  \n",
            "83583   51638.800  \n",
            "83591   34991.527  \n"
          ]
        }
      ]
    },
    {
      "cell_type": "markdown",
      "source": [
        ""
      ],
      "metadata": {
        "id": "pqt-bYB8bK2x"
      }
    },
    {
      "cell_type": "code",
      "source": [
        "agrup_uf7 = dados_uf7.drop(columns=['MES'])\n",
        "agrup_uf7 = agrup_uf7.groupby([\"ANO\", 'UF']).agg({'VENDAS_m3': 'sum'})\n",
        "print(agrup_uf7)"
      ],
      "metadata": {
        "colab": {
          "base_uri": "https://localhost:8080/"
        },
        "outputId": "7cad387d-b156-46aa-a9e4-6788ba5a5348",
        "id": "Mjghe7aOaH1k"
      },
      "execution_count": 57,
      "outputs": [
        {
          "output_type": "stream",
          "name": "stdout",
          "text": [
            "                           VENDAS_m3\n",
            "ANO  UF                             \n",
            "2022 ALAGOAS              104484.251\n",
            "     BAHIA                770695.170\n",
            "     CEARÁ                255320.222\n",
            "     MARANHÃO             345384.539\n",
            "     PARAÍBA              103023.659\n",
            "     PERNAMBUCO           372416.415\n",
            "     PIAUÍ                134836.630\n",
            "     RIO GRANDE DO NORTE  108820.335\n",
            "     SERGIPE               83698.526\n"
          ]
        }
      ]
    },
    {
      "cell_type": "markdown",
      "source": [
        ""
      ],
      "metadata": {
        "id": "YTM5E6ZibKT3"
      }
    },
    {
      "cell_type": "code",
      "source": [
        "agrup_uf7.plot.bar(stacked= True)\n",
        "plt.show()"
      ],
      "metadata": {
        "colab": {
          "base_uri": "https://localhost:8080/",
          "height": 429
        },
        "id": "DiJptH9JaTLe",
        "outputId": "24893d80-bd72-44b7-832f-6ce086eec02a"
      },
      "execution_count": 58,
      "outputs": [
        {
          "output_type": "display_data",
          "data": {
            "text/plain": [
              "<Figure size 432x288 with 1 Axes>"
            ],
            "image/png": "[encoded data removed]"
          },
          "metadata": {
            "needs_background": "light"
          }
        }
      ]
    },
    {
      "cell_type": "markdown",
      "source": [
        ""
      ],
      "metadata": {
        "id": "5zJN1I8FbJ4B"
      }
    },
    {
      "cell_type": "markdown",
      "source": [
        "### Etanol Hidratado"
      ],
      "metadata": {
        "id": "6jAiJOYaTBrT"
      }
    },
    {
      "cell_type": "code",
      "source": [
        "dados_uf8 = vendas_petroleo[(vendas_petroleo[\"PRODUTO\"] == \"ETANOL HIDRATADO\") & (vendas_petroleo[\"GRANDE_REGIAO\"] == \"REGIÃO NORDESTE\") & (vendas_petroleo[\"ANO\"] == 2020)]\n",
        "print(dados_uf8)"
      ],
      "metadata": {
        "colab": {
          "base_uri": "https://localhost:8080/"
        },
        "id": "JtW5G0viMW-z",
        "outputId": "61711ecb-6ca9-4224-d8cc-23beed148331"
      },
      "execution_count": 59,
      "outputs": [
        {
          "output_type": "stream",
          "name": "stdout",
          "text": [
            "        ANO  MES    GRANDE_REGIAO       UF           PRODUTO  VENDAS_m3\n",
            "77809  2020  JUN  REGIÃO NORDESTE    BAHIA  ETANOL HIDRATADO  32283.469\n",
            "77813  2020  JUL  REGIÃO NORDESTE    BAHIA  ETANOL HIDRATADO  36590.312\n",
            "77814  2020  NOV  REGIÃO NORDESTE    BAHIA  ETANOL HIDRATADO  43045.554\n",
            "77815  2020  DEZ  REGIÃO NORDESTE    BAHIA  ETANOL HIDRATADO  53672.462\n",
            "77816  2020  ABR  REGIÃO NORDESTE    BAHIA  ETANOL HIDRATADO  27315.554\n",
            "...     ...  ...              ...      ...               ...        ...\n",
            "78079  2020  OUT  REGIÃO NORDESTE  PARAÍBA  ETANOL HIDRATADO  14421.050\n",
            "78080  2020  JUN  REGIÃO NORDESTE  PARAÍBA  ETANOL HIDRATADO   6535.750\n",
            "78081  2020  AGO  REGIÃO NORDESTE  PARAÍBA  ETANOL HIDRATADO  11495.520\n",
            "78082  2020  NOV  REGIÃO NORDESTE    PIAUÍ  ETANOL HIDRATADO   6400.900\n",
            "78083  2020  DEZ  REGIÃO NORDESTE    PIAUÍ  ETANOL HIDRATADO   7343.609\n",
            "\n",
            "[108 rows x 6 columns]\n"
          ]
        }
      ]
    },
    {
      "cell_type": "markdown",
      "source": [
        ""
      ],
      "metadata": {
        "id": "iagAyIeqbJUx"
      }
    },
    {
      "cell_type": "code",
      "source": [
        "agrup_uf8 = dados_uf8.drop(columns=['MES'])\n",
        "agrup_uf8 = agrup_uf8.groupby([\"ANO\", 'UF']).agg({'VENDAS_m3': 'sum'})\n",
        "print(agrup_uf8)"
      ],
      "metadata": {
        "colab": {
          "base_uri": "https://localhost:8080/"
        },
        "id": "YL0gRjaoMbkq",
        "outputId": "b64228ff-3e37-467b-dcce-4abc037759df"
      },
      "execution_count": 60,
      "outputs": [
        {
          "output_type": "stream",
          "name": "stdout",
          "text": [
            "                           VENDAS_m3\n",
            "ANO  UF                             \n",
            "2020 ALAGOAS               64922.409\n",
            "     BAHIA                494275.908\n",
            "     CEARÁ                144948.239\n",
            "     MARANHÃO              39181.080\n",
            "     PARAÍBA              146229.600\n",
            "     PERNAMBUCO           264071.082\n",
            "     PIAUÍ                 71251.609\n",
            "     RIO GRANDE DO NORTE   76159.998\n",
            "     SERGIPE               40584.868\n"
          ]
        }
      ]
    },
    {
      "cell_type": "markdown",
      "source": [
        ""
      ],
      "metadata": {
        "id": "NJ-XuxClbIk_"
      }
    },
    {
      "cell_type": "code",
      "source": [
        "agrup_uf8.plot.bar(stacked= True)\n",
        "plt.show()"
      ],
      "metadata": {
        "colab": {
          "base_uri": "https://localhost:8080/",
          "height": 427
        },
        "id": "DkR0vYV7MdzE",
        "outputId": "501a7b30-35cb-4b81-b61b-41dd4f19a6ba"
      },
      "execution_count": 61,
      "outputs": [
        {
          "output_type": "display_data",
          "data": {
            "text/plain": [
              "<Figure size 432x288 with 1 Axes>"
            ],
            "image/png": "[encoded data removed]"
          },
          "metadata": {
            "needs_background": "light"
          }
        }
      ]
    },
    {
      "cell_type": "markdown",
      "source": [
        ""
      ],
      "metadata": {
        "id": "wVM2LaJdbHzB"
      }
    },
    {
      "cell_type": "markdown",
      "source": [
        ""
      ],
      "metadata": {
        "id": "ek6SAz3ydMtE"
      }
    },
    {
      "cell_type": "code",
      "source": [
        "dados_uf9 = vendas_petroleo[(vendas_petroleo[\"PRODUTO\"] == \"ETANOL HIDRATADO\") & (vendas_petroleo[\"GRANDE_REGIAO\"] == \"REGIÃO NORDESTE\") & (vendas_petroleo[\"ANO\"] == 2021)]\n",
        "print(dados_uf9)"
      ],
      "metadata": {
        "colab": {
          "base_uri": "https://localhost:8080/"
        },
        "id": "REppvMkQdNAt",
        "outputId": "1d1ac27a-25dd-46ce-a774-527ea8837157"
      },
      "execution_count": 62,
      "outputs": [
        {
          "output_type": "stream",
          "name": "stdout",
          "text": [
            "        ANO  MES    GRANDE_REGIAO                   UF           PRODUTO  \\\n",
            "80355  2021  SET  REGIÃO NORDESTE              SERGIPE  ETANOL HIDRATADO   \n",
            "80356  2021  AGO  REGIÃO NORDESTE              SERGIPE  ETANOL HIDRATADO   \n",
            "80364  2021  OUT  REGIÃO NORDESTE              ALAGOAS  ETANOL HIDRATADO   \n",
            "80365  2021  NOV  REGIÃO NORDESTE              SERGIPE  ETANOL HIDRATADO   \n",
            "80366  2021  OUT  REGIÃO NORDESTE              SERGIPE  ETANOL HIDRATADO   \n",
            "...     ...  ...              ...                  ...               ...   \n",
            "80671  2021  MAI  REGIÃO NORDESTE  RIO GRANDE DO NORTE  ETANOL HIDRATADO   \n",
            "80672  2021  AGO  REGIÃO NORDESTE              PARAÍBA  ETANOL HIDRATADO   \n",
            "80673  2021  JUN  REGIÃO NORDESTE              PARAÍBA  ETANOL HIDRATADO   \n",
            "80674  2021  JUL  REGIÃO NORDESTE              PARAÍBA  ETANOL HIDRATADO   \n",
            "80675  2021  DEZ  REGIÃO NORDESTE                PIAUÍ  ETANOL HIDRATADO   \n",
            "\n",
            "       VENDAS_m3  \n",
            "80355   1594.912  \n",
            "80356   1741.000  \n",
            "80364   4452.588  \n",
            "80365   2382.881  \n",
            "80366   1789.785  \n",
            "...          ...  \n",
            "80671   6386.500  \n",
            "80672   6039.970  \n",
            "80673   6970.980  \n",
            "80674   5831.950  \n",
            "80675   7273.600  \n",
            "\n",
            "[108 rows x 6 columns]\n"
          ]
        }
      ]
    },
    {
      "cell_type": "code",
      "source": [
        "agrup_uf9 = dados_uf9.drop(columns=['MES'])\n",
        "agrup_uf9 = agrup_uf9.groupby([\"ANO\", 'UF']).agg({'VENDAS_m3': 'sum'})\n",
        "print(agrup_uf9)"
      ],
      "metadata": {
        "colab": {
          "base_uri": "https://localhost:8080/"
        },
        "id": "LVYsuLCQdTcr",
        "outputId": "7827bd28-87a9-4d4e-8236-2dca4eb76bd8"
      },
      "execution_count": 63,
      "outputs": [
        {
          "output_type": "stream",
          "name": "stdout",
          "text": [
            "                           VENDAS_m3\n",
            "ANO  UF                             \n",
            "2021 ALAGOAS               71585.953\n",
            "     BAHIA                469144.871\n",
            "     CEARÁ                137584.461\n",
            "     MARANHÃO              54917.887\n",
            "     PARAÍBA              137377.541\n",
            "     PERNAMBUCO           250897.195\n",
            "     PIAUÍ                 84391.579\n",
            "     RIO GRANDE DO NORTE   76949.999\n",
            "     SERGIPE               36890.184\n"
          ]
        }
      ]
    },
    {
      "cell_type": "code",
      "source": [
        "agrup_uf9.plot.bar(stacked= True)\n",
        "plt.show()"
      ],
      "metadata": {
        "colab": {
          "base_uri": "https://localhost:8080/",
          "height": 427
        },
        "id": "KIOO6fA2daK6",
        "outputId": "d083cc66-7b34-4075-b92e-1184ea7b2baa"
      },
      "execution_count": 64,
      "outputs": [
        {
          "output_type": "display_data",
          "data": {
            "text/plain": [
              "<Figure size 432x288 with 1 Axes>"
            ],
            "image/png": "[encoded data removed]"
          },
          "metadata": {
            "needs_background": "light"
          }
        }
      ]
    },
    {
      "cell_type": "code",
      "source": [
        "dados_uf10 = vendas_petroleo[(vendas_petroleo[\"PRODUTO\"] == \"ETANOL HIDRATADO\") & (vendas_petroleo[\"GRANDE_REGIAO\"] == \"REGIÃO NORDESTE\") & (vendas_petroleo[\"ANO\"] == 2021)]\n",
        "print(dados_uf10)"
      ],
      "metadata": {
        "colab": {
          "base_uri": "https://localhost:8080/"
        },
        "id": "gj_mIXtAdc9S",
        "outputId": "d52ffe96-5c32-4d02-fa6d-f96acf51a620"
      },
      "execution_count": 65,
      "outputs": [
        {
          "output_type": "stream",
          "name": "stdout",
          "text": [
            "        ANO  MES    GRANDE_REGIAO                   UF           PRODUTO  \\\n",
            "80355  2021  SET  REGIÃO NORDESTE              SERGIPE  ETANOL HIDRATADO   \n",
            "80356  2021  AGO  REGIÃO NORDESTE              SERGIPE  ETANOL HIDRATADO   \n",
            "80364  2021  OUT  REGIÃO NORDESTE              ALAGOAS  ETANOL HIDRATADO   \n",
            "80365  2021  NOV  REGIÃO NORDESTE              SERGIPE  ETANOL HIDRATADO   \n",
            "80366  2021  OUT  REGIÃO NORDESTE              SERGIPE  ETANOL HIDRATADO   \n",
            "...     ...  ...              ...                  ...               ...   \n",
            "80671  2021  MAI  REGIÃO NORDESTE  RIO GRANDE DO NORTE  ETANOL HIDRATADO   \n",
            "80672  2021  AGO  REGIÃO NORDESTE              PARAÍBA  ETANOL HIDRATADO   \n",
            "80673  2021  JUN  REGIÃO NORDESTE              PARAÍBA  ETANOL HIDRATADO   \n",
            "80674  2021  JUL  REGIÃO NORDESTE              PARAÍBA  ETANOL HIDRATADO   \n",
            "80675  2021  DEZ  REGIÃO NORDESTE                PIAUÍ  ETANOL HIDRATADO   \n",
            "\n",
            "       VENDAS_m3  \n",
            "80355   1594.912  \n",
            "80356   1741.000  \n",
            "80364   4452.588  \n",
            "80365   2382.881  \n",
            "80366   1789.785  \n",
            "...          ...  \n",
            "80671   6386.500  \n",
            "80672   6039.970  \n",
            "80673   6970.980  \n",
            "80674   5831.950  \n",
            "80675   7273.600  \n",
            "\n",
            "[108 rows x 6 columns]\n"
          ]
        }
      ]
    },
    {
      "cell_type": "code",
      "source": [
        "agrup_uf10 = dados_uf10.drop(columns=['MES'])\n",
        "agrup_uf10 = agrup_uf10.groupby([\"ANO\", 'UF']).agg({'VENDAS_m3': 'sum'})\n",
        "print(agrup_uf10)"
      ],
      "metadata": {
        "colab": {
          "base_uri": "https://localhost:8080/"
        },
        "id": "r1x9N5nkdlSq",
        "outputId": "fd2549f5-1fda-4c67-b5ce-f69ce013f145"
      },
      "execution_count": 66,
      "outputs": [
        {
          "output_type": "stream",
          "name": "stdout",
          "text": [
            "                           VENDAS_m3\n",
            "ANO  UF                             \n",
            "2021 ALAGOAS               71585.953\n",
            "     BAHIA                469144.871\n",
            "     CEARÁ                137584.461\n",
            "     MARANHÃO              54917.887\n",
            "     PARAÍBA              137377.541\n",
            "     PERNAMBUCO           250897.195\n",
            "     PIAUÍ                 84391.579\n",
            "     RIO GRANDE DO NORTE   76949.999\n",
            "     SERGIPE               36890.184\n"
          ]
        }
      ]
    },
    {
      "cell_type": "code",
      "source": [
        "agrup_uf10.plot.bar(stacked= True)\n",
        "plt.show()"
      ],
      "metadata": {
        "colab": {
          "base_uri": "https://localhost:8080/",
          "height": 427
        },
        "id": "s2P5XXPYdzdy",
        "outputId": "8c70f74c-9c87-4f41-d5bc-dde7468de28b"
      },
      "execution_count": 67,
      "outputs": [
        {
          "output_type": "display_data",
          "data": {
            "text/plain": [
              "<Figure size 432x288 with 1 Axes>"
            ],
            "image/png": "[encoded data removed]"
          },
          "metadata": {
            "needs_background": "light"
          }
        }
      ]
    },
    {
      "cell_type": "code",
      "source": [
        "dados_uf11 = vendas_petroleo[(vendas_petroleo[\"PRODUTO\"] == \"ETANOL HIDRATADO\") & (vendas_petroleo[\"GRANDE_REGIAO\"] == \"REGIÃO NORDESTE\") & (vendas_petroleo[\"ANO\"] == 2022)]\n",
        "print(dados_uf11)"
      ],
      "metadata": {
        "colab": {
          "base_uri": "https://localhost:8080/"
        },
        "id": "uDlvYeJ8d2G5",
        "outputId": "6b7934e8-c1cc-4eaf-cc97-a9bc2a6a60b3"
      },
      "execution_count": 68,
      "outputs": [
        {
          "output_type": "stream",
          "name": "stdout",
          "text": [
            "        ANO  MES    GRANDE_REGIAO                   UF           PRODUTO  \\\n",
            "82950  2022  MAR  REGIÃO NORDESTE                BAHIA  ETANOL HIDRATADO   \n",
            "82957  2022  FEV  REGIÃO NORDESTE              PARAÍBA  ETANOL HIDRATADO   \n",
            "82958  2022  JAN  REGIÃO NORDESTE              PARAÍBA  ETANOL HIDRATADO   \n",
            "82965  2022  MAR  REGIÃO NORDESTE  RIO GRANDE DO NORTE  ETANOL HIDRATADO   \n",
            "82966  2022  MAR  REGIÃO NORDESTE             MARANHÃO  ETANOL HIDRATADO   \n",
            "82967  2022  JAN  REGIÃO NORDESTE           PERNAMBUCO  ETANOL HIDRATADO   \n",
            "82968  2022  JAN  REGIÃO NORDESTE                PIAUÍ  ETANOL HIDRATADO   \n",
            "82970  2022  FEV  REGIÃO NORDESTE             MARANHÃO  ETANOL HIDRATADO   \n",
            "82971  2022  MAR  REGIÃO NORDESTE              PARAÍBA  ETANOL HIDRATADO   \n",
            "82972  2022  FEV  REGIÃO NORDESTE  RIO GRANDE DO NORTE  ETANOL HIDRATADO   \n",
            "82973  2022  JAN  REGIÃO NORDESTE  RIO GRANDE DO NORTE  ETANOL HIDRATADO   \n",
            "82974  2022  MAR  REGIÃO NORDESTE           PERNAMBUCO  ETANOL HIDRATADO   \n",
            "82975  2022  FEV  REGIÃO NORDESTE           PERNAMBUCO  ETANOL HIDRATADO   \n",
            "82976  2022  JAN  REGIÃO NORDESTE              ALAGOAS  ETANOL HIDRATADO   \n",
            "82988  2022  FEV  REGIÃO NORDESTE              ALAGOAS  ETANOL HIDRATADO   \n",
            "83000  2022  MAR  REGIÃO NORDESTE              ALAGOAS  ETANOL HIDRATADO   \n",
            "83003  2022  MAR  REGIÃO NORDESTE              SERGIPE  ETANOL HIDRATADO   \n",
            "83004  2022  FEV  REGIÃO NORDESTE              SERGIPE  ETANOL HIDRATADO   \n",
            "83005  2022  JAN  REGIÃO NORDESTE                BAHIA  ETANOL HIDRATADO   \n",
            "83006  2022  FEV  REGIÃO NORDESTE                BAHIA  ETANOL HIDRATADO   \n",
            "83007  2022  JAN  REGIÃO NORDESTE              SERGIPE  ETANOL HIDRATADO   \n",
            "83019  2022  JAN  REGIÃO NORDESTE             MARANHÃO  ETANOL HIDRATADO   \n",
            "83020  2022  MAR  REGIÃO NORDESTE                PIAUÍ  ETANOL HIDRATADO   \n",
            "83021  2022  JAN  REGIÃO NORDESTE                CEARÁ  ETANOL HIDRATADO   \n",
            "83022  2022  FEV  REGIÃO NORDESTE                PIAUÍ  ETANOL HIDRATADO   \n",
            "83023  2022  MAR  REGIÃO NORDESTE                CEARÁ  ETANOL HIDRATADO   \n",
            "83024  2022  FEV  REGIÃO NORDESTE                CEARÁ  ETANOL HIDRATADO   \n",
            "\n",
            "       VENDAS_m3  \n",
            "82950  55883.059  \n",
            "82957  10369.420  \n",
            "82958  10507.740  \n",
            "82965   7641.000  \n",
            "82966   9771.130  \n",
            "82967  20735.128  \n",
            "82968   5942.900  \n",
            "82970   5814.430  \n",
            "82971  14112.350  \n",
            "82972   4994.000  \n",
            "82973   5123.000  \n",
            "82974  32961.100  \n",
            "82975  21700.147  \n",
            "82976   5890.590  \n",
            "82988   5353.776  \n",
            "83000  11820.122  \n",
            "83003   4222.650  \n",
            "83004   2760.934  \n",
            "83005  35584.449  \n",
            "83006  37359.932  \n",
            "83007   3415.805  \n",
            "83019   3489.330  \n",
            "83020  21113.709  \n",
            "83021   9433.893  \n",
            "83022   8492.700  \n",
            "83023  12807.990  \n",
            "83024   9500.120  \n"
          ]
        }
      ]
    },
    {
      "cell_type": "code",
      "source": [
        "agrup_uf11 = dados_uf11.drop(columns=['MES'])\n",
        "agrup_uf11 = agrup_uf11.groupby([\"ANO\", 'UF']).agg({'VENDAS_m3': 'sum'})\n",
        "print(agrup_uf11)"
      ],
      "metadata": {
        "colab": {
          "base_uri": "https://localhost:8080/"
        },
        "id": "HN4EJJ5fd7XB",
        "outputId": "4fecb7a1-5dbd-41cd-eaa3-a6f724f532ce"
      },
      "execution_count": 69,
      "outputs": [
        {
          "output_type": "stream",
          "name": "stdout",
          "text": [
            "                           VENDAS_m3\n",
            "ANO  UF                             \n",
            "2022 ALAGOAS               23064.488\n",
            "     BAHIA                128827.440\n",
            "     CEARÁ                 31742.003\n",
            "     MARANHÃO              19074.890\n",
            "     PARAÍBA               34989.510\n",
            "     PERNAMBUCO            75396.375\n",
            "     PIAUÍ                 35549.309\n",
            "     RIO GRANDE DO NORTE   17758.000\n",
            "     SERGIPE               10399.389\n"
          ]
        }
      ]
    },
    {
      "cell_type": "code",
      "source": [
        "agrup_uf11.plot.bar(stacked= True)\n",
        "plt.show()"
      ],
      "metadata": {
        "colab": {
          "base_uri": "https://localhost:8080/",
          "height": 427
        },
        "id": "t_AyWkyjeGEH",
        "outputId": "b98e010f-7ee0-449d-8689-12c84667c780"
      },
      "execution_count": 70,
      "outputs": [
        {
          "output_type": "display_data",
          "data": {
            "text/plain": [
              "<Figure size 432x288 with 1 Axes>"
            ],
            "image/png": "[encoded data removed]"
          },
          "metadata": {
            "needs_background": "light"
          }
        }
      ]
    },
    {
      "cell_type": "markdown",
      "source": [
        "## Comparando séries de vendas entre os anos de 2002 a 2021"
      ],
      "metadata": {
        "id": "quuFI9_CescE"
      }
    },
    {
      "cell_type": "code",
      "source": [
        ""
      ],
      "metadata": {
        "id": "cpQuemBle11V"
      },
      "execution_count": 72,
      "outputs": []
    }
  ]
}